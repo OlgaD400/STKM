{
 "cells": [
  {
   "cell_type": "code",
   "execution_count": 5,
   "metadata": {},
   "outputs": [
    {
     "ename": "ImportError",
     "evalue": "cannot import name 'find_final_label_sc' from 'TKM_long_term_clusters' (/Users/dev.dabke/Documents/repo/research/tkm/TKM_long_term_clusters.py)",
     "output_type": "error",
     "traceback": [
      "\u001b[0;31m---------------------------------------------------------------------------\u001b[0m",
      "\u001b[0;31mImportError\u001b[0m                               Traceback (most recent call last)",
      "Cell \u001b[0;32mIn[5], line 1\u001b[0m\n\u001b[0;32m----> 1\u001b[0m \u001b[39mfrom\u001b[39;00m \u001b[39mtkm\u001b[39;00m\u001b[39m.\u001b[39;00m\u001b[39mgraph_clustering_functions\u001b[39;00m \u001b[39mimport\u001b[39;00m STGKM\n",
      "File \u001b[0;32m~/Documents/repo/research/tkm/tkm/graph_clustering_functions.py:2\u001b[0m\n\u001b[1;32m      1\u001b[0m \u001b[39mimport\u001b[39;00m \u001b[39mnumpy\u001b[39;00m \u001b[39mas\u001b[39;00m \u001b[39mnp\u001b[39;00m\n\u001b[0;32m----> 2\u001b[0m \u001b[39mfrom\u001b[39;00m \u001b[39mTKM_long_term_clusters\u001b[39;00m \u001b[39mimport\u001b[39;00m find_final_label_sc\n\u001b[1;32m      3\u001b[0m \u001b[39mimport\u001b[39;00m \u001b[39mitertools\u001b[39;00m\n\u001b[1;32m      4\u001b[0m \u001b[39mimport\u001b[39;00m \u001b[39mnetworkx\u001b[39;00m \u001b[39mas\u001b[39;00m \u001b[39mnx\u001b[39;00m\n",
      "\u001b[0;31mImportError\u001b[0m: cannot import name 'find_final_label_sc' from 'TKM_long_term_clusters' (/Users/dev.dabke/Documents/repo/research/tkm/TKM_long_term_clusters.py)"
     ]
    }
   ],
   "source": [
    "from tkm.graph_clustering_functions import STGKM"
   ]
  }
 ],
 "metadata": {
  "kernelspec": {
   "display_name": "tkm-3jOBV8Gp-py3.10",
   "language": "python",
   "name": "python3"
  },
  "language_info": {
   "codemirror_mode": {
    "name": "ipython",
    "version": 3
   },
   "file_extension": ".py",
   "mimetype": "text/x-python",
   "name": "python",
   "nbconvert_exporter": "python",
   "pygments_lexer": "ipython3",
   "version": "3.10.4"
  },
  "orig_nbformat": 4
 },
 "nbformat": 4,
 "nbformat_minor": 2
}
