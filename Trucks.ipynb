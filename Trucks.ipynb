{
 "cells": [
  {
   "cell_type": "code",
   "execution_count": 1,
   "metadata": {},
   "outputs": [],
   "source": [
    "import numpy as np\n",
    "import pandas as pd\n",
    "import matplotlib.pyplot as plt\n",
    "from keplergl import KeplerGl"
   ]
  },
  {
   "cell_type": "code",
   "execution_count": 2,
   "metadata": {},
   "outputs": [],
   "source": [
    "data = pd.read_csv('trucks/Trucks.txt', sep=\";\", header=None)\n",
    "data.columns = ['obj_id', 'traj_id', 'date', 'time_ts', 'lat', 'lon', 'x', 'y']"
   ]
  },
  {
   "cell_type": "code",
   "execution_count": 3,
   "metadata": {},
   "outputs": [],
   "source": [
    "#change granularity from h:m:s to h:m\n",
    "data['time_ts'] = data['time_ts'].str[:5]\n",
    "\n",
    "#bucket the data\n",
    "#somehow average in timestamps\n",
    "#each truck starts and stops at a given time on a given date... \n"
   ]
  },
  {
   "cell_type": "code",
   "execution_count": 4,
   "metadata": {},
   "outputs": [],
   "source": [
    "# day_data = data[data['date'] == '10/09/2002']\n",
    "# for obj in day_data['obj_id'].unique():\n",
    "#     truck_df = day_data[data['obj_id'] == obj]\n",
    "#     print(min(truck_df['time_ts']), max(truck_df['time_ts']))\n",
    "# #     print(truck_df['date'].unique())"
   ]
  },
  {
   "cell_type": "code",
   "execution_count": 5,
   "metadata": {},
   "outputs": [
    {
     "data": {
      "text/html": [
       "<div>\n",
       "<style scoped>\n",
       "    .dataframe tbody tr th:only-of-type {\n",
       "        vertical-align: middle;\n",
       "    }\n",
       "\n",
       "    .dataframe tbody tr th {\n",
       "        vertical-align: top;\n",
       "    }\n",
       "\n",
       "    .dataframe thead th {\n",
       "        text-align: right;\n",
       "    }\n",
       "</style>\n",
       "<table border=\"1\" class=\"dataframe\">\n",
       "  <thead>\n",
       "    <tr style=\"text-align: right;\">\n",
       "      <th></th>\n",
       "      <th>obj_id</th>\n",
       "      <th>traj_id</th>\n",
       "      <th>date</th>\n",
       "      <th>time_ts</th>\n",
       "      <th>lat</th>\n",
       "      <th>lon</th>\n",
       "      <th>x</th>\n",
       "      <th>y</th>\n",
       "    </tr>\n",
       "  </thead>\n",
       "  <tbody>\n",
       "    <tr>\n",
       "      <th>0</th>\n",
       "      <td>862</td>\n",
       "      <td>1</td>\n",
       "      <td>10/09/2002</td>\n",
       "      <td>09:15</td>\n",
       "      <td>23.845089</td>\n",
       "      <td>38.018470</td>\n",
       "      <td>486253.8</td>\n",
       "      <td>4207588.1</td>\n",
       "    </tr>\n",
       "    <tr>\n",
       "      <th>1</th>\n",
       "      <td>862</td>\n",
       "      <td>1</td>\n",
       "      <td>10/09/2002</td>\n",
       "      <td>09:16</td>\n",
       "      <td>23.845179</td>\n",
       "      <td>38.018069</td>\n",
       "      <td>486261.6</td>\n",
       "      <td>4207543.6</td>\n",
       "    </tr>\n",
       "    <tr>\n",
       "      <th>2</th>\n",
       "      <td>862</td>\n",
       "      <td>1</td>\n",
       "      <td>10/09/2002</td>\n",
       "      <td>09:16</td>\n",
       "      <td>23.845530</td>\n",
       "      <td>38.018241</td>\n",
       "      <td>486292.4</td>\n",
       "      <td>4207562.6</td>\n",
       "    </tr>\n",
       "    <tr>\n",
       "      <th>3</th>\n",
       "      <td>862</td>\n",
       "      <td>1</td>\n",
       "      <td>10/09/2002</td>\n",
       "      <td>09:17</td>\n",
       "      <td>23.845499</td>\n",
       "      <td>38.017440</td>\n",
       "      <td>486289.6</td>\n",
       "      <td>4207473.8</td>\n",
       "    </tr>\n",
       "    <tr>\n",
       "      <th>4</th>\n",
       "      <td>862</td>\n",
       "      <td>1</td>\n",
       "      <td>10/09/2002</td>\n",
       "      <td>09:17</td>\n",
       "      <td>23.844780</td>\n",
       "      <td>38.015609</td>\n",
       "      <td>486226.1</td>\n",
       "      <td>4207270.7</td>\n",
       "    </tr>\n",
       "  </tbody>\n",
       "</table>\n",
       "</div>"
      ],
      "text/plain": [
       "   obj_id  traj_id        date time_ts        lat        lon         x  \\\n",
       "0     862        1  10/09/2002   09:15  23.845089  38.018470  486253.8   \n",
       "1     862        1  10/09/2002   09:16  23.845179  38.018069  486261.6   \n",
       "2     862        1  10/09/2002   09:16  23.845530  38.018241  486292.4   \n",
       "3     862        1  10/09/2002   09:17  23.845499  38.017440  486289.6   \n",
       "4     862        1  10/09/2002   09:17  23.844780  38.015609  486226.1   \n",
       "\n",
       "           y  \n",
       "0  4207588.1  \n",
       "1  4207543.6  \n",
       "2  4207562.6  \n",
       "3  4207473.8  \n",
       "4  4207270.7  "
      ]
     },
     "execution_count": 5,
     "metadata": {},
     "output_type": "execute_result"
    }
   ],
   "source": [
    "data.head()"
   ]
  },
  {
   "cell_type": "code",
   "execution_count": 6,
   "metadata": {},
   "outputs": [
    {
     "data": {
      "text/plain": [
       "array([862, 863, 864, 865, 866, 867, 869, 870, 872, 873, 874, 875, 876,\n",
       "       878, 879, 880, 882, 883, 884, 885, 887, 888, 889, 891, 892, 893,\n",
       "       894, 895, 896, 897, 898, 899, 900, 901, 903, 904, 905, 906, 908,\n",
       "       910, 911, 912, 913, 914, 915, 916, 917, 918, 920, 921])"
      ]
     },
     "execution_count": 6,
     "metadata": {},
     "output_type": "execute_result"
    }
   ],
   "source": [
    "data['obj_id'].unique()"
   ]
  },
  {
   "cell_type": "code",
   "execution_count": 7,
   "metadata": {},
   "outputs": [
    {
     "name": "stdout",
     "output_type": "stream",
     "text": [
      "1374 00:01 23:58\n"
     ]
    }
   ],
   "source": [
    "print(data['time_ts'].nunique(), min(data['time_ts']), max(data['time_ts']))\n"
   ]
  },
  {
   "cell_type": "code",
   "execution_count": 8,
   "metadata": {},
   "outputs": [
    {
     "data": {
      "text/html": [
       "<div>\n",
       "<style scoped>\n",
       "    .dataframe tbody tr th:only-of-type {\n",
       "        vertical-align: middle;\n",
       "    }\n",
       "\n",
       "    .dataframe tbody tr th {\n",
       "        vertical-align: top;\n",
       "    }\n",
       "\n",
       "    .dataframe thead th {\n",
       "        text-align: right;\n",
       "    }\n",
       "</style>\n",
       "<table border=\"1\" class=\"dataframe\">\n",
       "  <thead>\n",
       "    <tr style=\"text-align: right;\">\n",
       "      <th></th>\n",
       "      <th>obj_id</th>\n",
       "      <th>traj_id</th>\n",
       "      <th>date</th>\n",
       "      <th>time_ts</th>\n",
       "      <th>lat</th>\n",
       "      <th>lon</th>\n",
       "      <th>x</th>\n",
       "      <th>y</th>\n",
       "    </tr>\n",
       "  </thead>\n",
       "  <tbody>\n",
       "    <tr>\n",
       "      <th>0</th>\n",
       "      <td>862</td>\n",
       "      <td>1</td>\n",
       "      <td>10/09/2002</td>\n",
       "      <td>09:15</td>\n",
       "      <td>23.845089</td>\n",
       "      <td>38.018470</td>\n",
       "      <td>486253.8</td>\n",
       "      <td>4207588.1</td>\n",
       "    </tr>\n",
       "    <tr>\n",
       "      <th>1</th>\n",
       "      <td>862</td>\n",
       "      <td>1</td>\n",
       "      <td>10/09/2002</td>\n",
       "      <td>09:16</td>\n",
       "      <td>23.845179</td>\n",
       "      <td>38.018069</td>\n",
       "      <td>486261.6</td>\n",
       "      <td>4207543.6</td>\n",
       "    </tr>\n",
       "    <tr>\n",
       "      <th>2</th>\n",
       "      <td>862</td>\n",
       "      <td>1</td>\n",
       "      <td>10/09/2002</td>\n",
       "      <td>09:16</td>\n",
       "      <td>23.845530</td>\n",
       "      <td>38.018241</td>\n",
       "      <td>486292.4</td>\n",
       "      <td>4207562.6</td>\n",
       "    </tr>\n",
       "    <tr>\n",
       "      <th>3</th>\n",
       "      <td>862</td>\n",
       "      <td>1</td>\n",
       "      <td>10/09/2002</td>\n",
       "      <td>09:17</td>\n",
       "      <td>23.845499</td>\n",
       "      <td>38.017440</td>\n",
       "      <td>486289.6</td>\n",
       "      <td>4207473.8</td>\n",
       "    </tr>\n",
       "    <tr>\n",
       "      <th>4</th>\n",
       "      <td>862</td>\n",
       "      <td>1</td>\n",
       "      <td>10/09/2002</td>\n",
       "      <td>09:17</td>\n",
       "      <td>23.844780</td>\n",
       "      <td>38.015609</td>\n",
       "      <td>486226.1</td>\n",
       "      <td>4207270.7</td>\n",
       "    </tr>\n",
       "  </tbody>\n",
       "</table>\n",
       "</div>"
      ],
      "text/plain": [
       "   obj_id  traj_id        date time_ts        lat        lon         x  \\\n",
       "0     862        1  10/09/2002   09:15  23.845089  38.018470  486253.8   \n",
       "1     862        1  10/09/2002   09:16  23.845179  38.018069  486261.6   \n",
       "2     862        1  10/09/2002   09:16  23.845530  38.018241  486292.4   \n",
       "3     862        1  10/09/2002   09:17  23.845499  38.017440  486289.6   \n",
       "4     862        1  10/09/2002   09:17  23.844780  38.015609  486226.1   \n",
       "\n",
       "           y  \n",
       "0  4207588.1  \n",
       "1  4207543.6  \n",
       "2  4207562.6  \n",
       "3  4207473.8  \n",
       "4  4207270.7  "
      ]
     },
     "execution_count": 8,
     "metadata": {},
     "output_type": "execute_result"
    }
   ],
   "source": [
    "truck_data = data[data['obj_id'] == 862]\n",
    "truck_data.head()"
   ]
  },
  {
   "cell_type": "code",
   "execution_count": 9,
   "metadata": {},
   "outputs": [
    {
     "data": {
      "image/png": "[encoded data removed]",
      "text/plain": [
       "<Figure size 432x288 with 1 Axes>"
      ]
     },
     "metadata": {
      "needs_background": "light"
     },
     "output_type": "display_data"
    },
    {
     "data": {
      "image/png": "[encoded data removed]",
      "text/plain": [
       "<Figure size 432x288 with 1 Axes>"
      ]
     },
     "metadata": {
      "needs_background": "light"
     },
     "output_type": "display_data"
    },
    {
     "data": {
      "image/png": "[encoded data removed]",
      "text/plain": [
       "<Figure size 432x288 with 1 Axes>"
      ]
     },
     "metadata": {
      "needs_background": "light"
     },
     "output_type": "display_data"
    },
    {
     "data": {
      "image/png": "[encoded data removed]",
      "text/plain": [
       "<Figure size 432x288 with 1 Axes>"
      ]
     },
     "metadata": {
      "needs_background": "light"
     },
     "output_type": "display_data"
    }
   ],
   "source": [
    "trajectories = []\n",
    "for date in truck_data['date'].unique():\n",
    "    day_data = truck_data[truck_data['date'] == date][['lat', 'lon']].to_numpy()\n",
    "    \n",
    "    trajectories.append(day_data)\n",
    "\n",
    "plt.figure()\n",
    "for traj in trajectories:\n",
    "    plt.scatter(traj[:,0], traj[:,1])\n",
    "\n",
    "for traj in trajectories:\n",
    "    plt.figure()\n",
    "    plt.scatter(traj[:,0], traj[:,1])"
   ]
  },
  {
   "cell_type": "code",
   "execution_count": 13,
   "metadata": {},
   "outputs": [
    {
     "name": "stdout",
     "output_type": "stream",
     "text": [
      "User Guide: https://docs.kepler.gl/docs/keplergl-jupyter\n"
     ]
    },
    {
     "data": {
      "application/vnd.jupyter.widget-view+json": {
       "model_id": "fedeb45c1a2d4d8ba1391ccc5a6f5f54",
       "version_major": 2,
       "version_minor": 0
      },
      "text/plain": [
       "KeplerGl(data={'data_1':         obj_id  traj_id        date time_ts        lat        lon         x  \\\n",
       "0     …"
      ]
     },
     "metadata": {},
     "output_type": "display_data"
    }
   ],
   "source": [
    "map_2 = KeplerGl(height=800, data={\"data_1\": data})\n",
    "map_2"
   ]
  },
  {
   "cell_type": "code",
   "execution_count": null,
   "metadata": {},
   "outputs": [],
   "source": []
  },
  {
   "cell_type": "code",
   "execution_count": null,
   "metadata": {},
   "outputs": [],
   "source": []
  },
  {
   "cell_type": "code",
   "execution_count": null,
   "metadata": {},
   "outputs": [],
   "source": []
  }
 ],
 "metadata": {
  "kernelspec": {
   "display_name": "Python 3 (ipykernel)",
   "language": "python",
   "name": "python3"
  },
  "language_info": {
   "codemirror_mode": {
    "name": "ipython",
    "version": 3
   },
   "file_extension": ".py",
   "mimetype": "text/x-python",
   "name": "python",
   "nbconvert_exporter": "python",
   "pygments_lexer": "ipython3",
   "version": "3.9.7"
  }
 },
 "nbformat": 4,
 "nbformat_minor": 4
}
