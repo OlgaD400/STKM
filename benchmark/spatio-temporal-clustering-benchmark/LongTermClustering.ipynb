{
 "cells": [
  {
   "cell_type": "code",
   "execution_count": 1,
   "id": "b3461ffb",
   "metadata": {},
   "outputs": [],
   "source": [
    "# control execution time of functions\n",
    "import threading\n",
    "\n",
    "TIMER = 120\n",
    "PERMUT = 12\n",
    "\n",
    "class TimeoutError(Exception):\n",
    "    pass\n",
    "\n",
    "class InterruptableThread(threading.Thread):\n",
    "    def __init__(self, func, *args, **kwargs):\n",
    "        threading.Thread.__init__(self)\n",
    "        self._func = func\n",
    "        self._args = args\n",
    "        self._kwargs = kwargs\n",
    "        self._result = None\n",
    "\n",
    "    def run(self):\n",
    "        self._result = self._func(*self._args, **self._kwargs)\n",
    "\n",
    "    @property\n",
    "    def result(self):\n",
    "        return self._result\n",
    "\n",
    "\n",
    "class timeout(object):\n",
    "    def __init__(self, sec):\n",
    "        self._sec = sec\n",
    "\n",
    "    def __call__(self, f):\n",
    "        def wrapped_f(*args, **kwargs):\n",
    "            it = InterruptableThread(f, *args, **kwargs)\n",
    "            it.start()\n",
    "            it.join(self._sec)\n",
    "            if not it.is_alive():\n",
    "                return it.result\n",
    "            raise TimeoutError('execution expired')\n",
    "        return wrapped_f"
   ]
  },
  {
   "cell_type": "code",
   "execution_count": 2,
   "id": "1ceba96f",
   "metadata": {},
   "outputs": [],
   "source": [
    "def make_generator(parameters):\n",
    "    \"\"\"Helper function for st_grid_search. Returns a dictionary of all possible parameter combinations.\"\"\"\n",
    "    if not parameters:\n",
    "        yield dict()\n",
    "    else:\n",
    "        key_to_iterate = list(parameters.keys())[0]\n",
    "        next_round_parameters = {p : parameters[p]\n",
    "                    for p in parameters if p != key_to_iterate}\n",
    "        for val in parameters[key_to_iterate]:\n",
    "            for pars in make_generator(next_round_parameters):\n",
    "                temp_res = pars\n",
    "                temp_res[key_to_iterate] = val\n",
    "                yield temp_res\n",
    "\n",
    "\n",
    "@timeout(TIMER*PERMUT)\n",
    "def st_grid_search(estimator, split, X, param_dict, metric, n_clusters, y=None, frame_size=None, frame_overlap=None):\n",
    "    \"\"\"\n",
    "    Grid Search of hyperparameters for spatial-temporal clustering algorithms\n",
    "    \n",
    "    Parameters\n",
    "    ----------\n",
    "    estimator: class\n",
    "        ST clustering algorithm\n",
    "    split: boolean\n",
    "        Flag to indicate whether whole X should be loaded in RAM or processed in smaller chunks.\n",
    "    X: numpy array\n",
    "        Data on which grid search is performed\n",
    "    param_dict: dict\n",
    "        Dictionary with parameters to be optimized as keys and value range of grid search as value.\n",
    "    metric: str\n",
    "        The metric to evaluate the clustering quality\n",
    "    y: numpy array\n",
    "        Optional. Some metrics compare predictions with ground truth. Then, labels need to be provided.\n",
    "    frame_size: int\n",
    "        Optional. If split is True, indicate how large the chunks should be.\n",
    "    \n",
    "    Returns\n",
    "    -------\n",
    "    param_opt\n",
    "        Optimal hyperparameter combination\n",
    "    \"\"\"\n",
    "    param_opt = None\n",
    "    s_max = 0\n",
    "    \n",
    "    t,n, m_plus = X.shape\n",
    "    st_X = X.reshape(t*n, m_plus)\n",
    "    \n",
    "    for param in make_generator(param_dict):\n",
    "        clust = estimator(**param)\n",
    "        \n",
    "        if not split:\n",
    "            clust.st_fit(st_X)\n",
    "        else:\n",
    "            clust.st_fit_frame_split(st_X, frame_size, frame_overlap)\n",
    "            \n",
    "        if param_opt is None: \n",
    "            param_opt = param\n",
    "        \n",
    "        # different performance evaluation metrics\n",
    "        \n",
    "        if metric=='long_term_ami':\n",
    "            weights = clust.labels.reshape((t,n)).T\n",
    "            score = find_optimal_threshold(weights, n_clusters, y)\n",
    "#             score = adjusted_mutual_info_score(y,clust.labels)\n",
    "        # store parameter combination if it outperforms given the metric\n",
    "    \n",
    "        elif metric=='full_ami':\n",
    "            score = adjusted_mutual_info_score(np.tile(y,t), clust.labels)\n",
    "            \n",
    "        elif metric =='average_ami':\n",
    "            weights = clust.labels.reshape((t,n)).T\n",
    "            lt_score = find_optimal_threshold(weights, n_clusters, y)\n",
    "            full_score = adjusted_mutual_info_score(np.tile(y,t), clust.labels)\n",
    "            \n",
    "            score = (lt_score + full_score)/2\n",
    "            \n",
    "        if score > s_max:\n",
    "            s_max = score\n",
    "            param_opt = param\n",
    "    return param_opt\n",
    "\n"
   ]
  },
  {
   "cell_type": "code",
   "execution_count": 3,
   "id": "439a8e7d",
   "metadata": {},
   "outputs": [],
   "source": [
    "class Test(object):       \n",
    "    # use this function with st clusterers\n",
    "    @timeout(TIMER) # set seconds for timeout\n",
    "    def frame_split_cluster(self, algorithm, data, frame_size, frame_overlap):\n",
    "        t,n, m_plus = data.shape\n",
    "        st_data = data.reshape(t*n, m_plus)\n",
    "        start_time = time.time()\n",
    "        algorithm.st_fit_frame_split(st_data, frame_size, frame_overlap)\n",
    "        runtime = time.time() - start_time\n",
    "        weights = algorithm.labels.reshape((t,n)).T\n",
    "        long_term_ami, full_ami = find_optimal_threshold(weights, k, true_labels)\n",
    "#         full_ami = adjusted_mutual_info_score(np.tile(true_labels, t), algorithm.labels)\n",
    "#         ami = adjusted_mutual_info_score(labels, algorithm.labels)\n",
    "        return long_term_ami, full_ami, runtime\n",
    "        \n",
    "    # use this with trajectory clustering\n",
    "    @timeout(TIMER)\n",
    "    def traj_cluster(self,algorithm, data):\n",
    "        start_time = time.time()\n",
    "        algorithm.st_fit(data)\n",
    "        runtime = time.time() - start_time\n",
    "        ami = adjusted_mutual_info_score(algorithm.true_labels, algorithm.labels)\n",
    "        return ami, runtime\n",
    "        \n",
    "    # use this with dbscan2\n",
    "    @timeout(TIMER)\n",
    "    def cluster(self, algorithm, data):\n",
    "        start_time = time.time()\n",
    "        algorithm.st_fit(data)\n",
    "        runtime = time.time() - start_time\n",
    "        ami = adjusted_mutual_info_score(labels, algorithm.labels)\n",
    "        return ami, runtime"
   ]
  },
  {
   "cell_type": "code",
   "execution_count": 4,
   "id": "761d8913",
   "metadata": {},
   "outputs": [],
   "source": [
    "import numpy as np\n",
    "import pandas as pd\n",
    "import os\n",
    "import time\n",
    "import logging\n",
    "import json\n",
    "from scipy.spatial.distance import pdist, squareform\n",
    "from sklearn.metrics import silhouette_score, adjusted_mutual_info_score\n",
    "from st_clustering import ST_DBSCAN, ST_Agglomerative, ST_KMeans, ST_SpectralClustering, ST_AffinityPropagation, ST_BIRCH, ST_HDBSCAN, ST_OPTICS\n",
    "from TKM_long_term_clusters import find_optimal_threshold\n",
    "\n"
   ]
  },
  {
   "cell_type": "code",
   "execution_count": 7,
   "id": "50a4498f",
   "metadata": {
    "scrolled": true
   },
   "outputs": [
    {
     "name": "stderr",
     "output_type": "stream",
     "text": [
      "/var/folders/xz/_nh5vnzd6w35js_89b99q6r40000gn/T/ipykernel_94951/2986066781.py:49: SettingWithCopyWarning: \n",
      "A value is trying to be set on a copy of a slice from a DataFrame.\n",
      "Try using .loc[row_indexer,col_indexer] = value instead\n",
      "\n",
      "See the caveats in the documentation: https://pandas.pydata.org/pandas-docs/stable/user_guide/indexing.html#returning-a-view-versus-a-copy\n",
      "  frame_data[\"id_cumcounts\"] = frame_data.groupby(\"id\").cumcount()\n",
      "/opt/anaconda3/envs/tkm/lib/python3.9/site-packages/pandas/util/_decorators.py:311: SettingWithCopyWarning: \n",
      "A value is trying to be set on a copy of a slice from a DataFrame\n",
      "\n",
      "See the caveats in the documentation: https://pandas.pydata.org/pandas-docs/stable/user_guide/indexing.html#returning-a-view-versus-a-copy\n",
      "  return func(*args, **kwargs)\n"
     ]
    },
    {
     "name": "stdout",
     "output_type": "stream",
     "text": [
      "running dbscan\n",
      "Could not find k clusters\n",
      "-1.3624583240492536e-15 6.255954471249542e-15 0.10152316093444824\n",
      "running average -1.3624583240492536e-15 6.255954471249542e-15 0.10152316093444824 \n",
      "\n"
     ]
    },
    {
     "name": "stderr",
     "output_type": "stream",
     "text": [
      "/var/folders/xz/_nh5vnzd6w35js_89b99q6r40000gn/T/ipykernel_94951/2986066781.py:49: SettingWithCopyWarning: \n",
      "A value is trying to be set on a copy of a slice from a DataFrame.\n",
      "Try using .loc[row_indexer,col_indexer] = value instead\n",
      "\n",
      "See the caveats in the documentation: https://pandas.pydata.org/pandas-docs/stable/user_guide/indexing.html#returning-a-view-versus-a-copy\n",
      "  frame_data[\"id_cumcounts\"] = frame_data.groupby(\"id\").cumcount()\n",
      "/opt/anaconda3/envs/tkm/lib/python3.9/site-packages/pandas/util/_decorators.py:311: SettingWithCopyWarning: \n",
      "A value is trying to be set on a copy of a slice from a DataFrame\n",
      "\n",
      "See the caveats in the documentation: https://pandas.pydata.org/pandas-docs/stable/user_guide/indexing.html#returning-a-view-versus-a-copy\n",
      "  return func(*args, **kwargs)\n"
     ]
    },
    {
     "name": "stdout",
     "output_type": "stream",
     "text": [
      "running dbscan\n",
      "Could not find k clusters\n",
      "1.7156587852386127e-15 0.5259832366862099 0.13486099243164062\n",
      "running average 1.7660023059467955e-16 0.2629916183431081 0.11819207668304443 \n",
      "\n"
     ]
    },
    {
     "name": "stderr",
     "output_type": "stream",
     "text": [
      "/var/folders/xz/_nh5vnzd6w35js_89b99q6r40000gn/T/ipykernel_94951/2986066781.py:49: SettingWithCopyWarning: \n",
      "A value is trying to be set on a copy of a slice from a DataFrame.\n",
      "Try using .loc[row_indexer,col_indexer] = value instead\n",
      "\n",
      "See the caveats in the documentation: https://pandas.pydata.org/pandas-docs/stable/user_guide/indexing.html#returning-a-view-versus-a-copy\n",
      "  frame_data[\"id_cumcounts\"] = frame_data.groupby(\"id\").cumcount()\n",
      "/opt/anaconda3/envs/tkm/lib/python3.9/site-packages/pandas/util/_decorators.py:311: SettingWithCopyWarning: \n",
      "A value is trying to be set on a copy of a slice from a DataFrame\n",
      "\n",
      "See the caveats in the documentation: https://pandas.pydata.org/pandas-docs/stable/user_guide/indexing.html#returning-a-view-versus-a-copy\n",
      "  return func(*args, **kwargs)\n"
     ]
    },
    {
     "name": "stdout",
     "output_type": "stream",
     "text": [
      "running dbscan\n",
      "Could not find k clusters\n",
      "1.2929084390708929e-15 -1.436564932299691e-15 0.06075692176818848\n",
      "running average 5.487029667534173e-16 0.17532774556207156 0.09904702504475911 \n",
      "\n"
     ]
    },
    {
     "name": "stderr",
     "output_type": "stream",
     "text": [
      "/var/folders/xz/_nh5vnzd6w35js_89b99q6r40000gn/T/ipykernel_94951/2986066781.py:49: SettingWithCopyWarning: \n",
      "A value is trying to be set on a copy of a slice from a DataFrame.\n",
      "Try using .loc[row_indexer,col_indexer] = value instead\n",
      "\n",
      "See the caveats in the documentation: https://pandas.pydata.org/pandas-docs/stable/user_guide/indexing.html#returning-a-view-versus-a-copy\n",
      "  frame_data[\"id_cumcounts\"] = frame_data.groupby(\"id\").cumcount()\n",
      "/opt/anaconda3/envs/tkm/lib/python3.9/site-packages/pandas/util/_decorators.py:311: SettingWithCopyWarning: \n",
      "A value is trying to be set on a copy of a slice from a DataFrame\n",
      "\n",
      "See the caveats in the documentation: https://pandas.pydata.org/pandas-docs/stable/user_guide/indexing.html#returning-a-view-versus-a-copy\n",
      "  return func(*args, **kwargs)\n"
     ]
    },
    {
     "name": "stdout",
     "output_type": "stream",
     "text": [
      "running dbscan\n",
      "0.1310969923949126 0.09975607316593078 0.13409876823425293\n",
      "running average 0.03277424809872856 0.15643482746303639 0.10780996084213257 \n",
      "\n"
     ]
    },
    {
     "name": "stderr",
     "output_type": "stream",
     "text": [
      "/var/folders/xz/_nh5vnzd6w35js_89b99q6r40000gn/T/ipykernel_94951/2986066781.py:49: SettingWithCopyWarning: \n",
      "A value is trying to be set on a copy of a slice from a DataFrame.\n",
      "Try using .loc[row_indexer,col_indexer] = value instead\n",
      "\n",
      "See the caveats in the documentation: https://pandas.pydata.org/pandas-docs/stable/user_guide/indexing.html#returning-a-view-versus-a-copy\n",
      "  frame_data[\"id_cumcounts\"] = frame_data.groupby(\"id\").cumcount()\n",
      "/opt/anaconda3/envs/tkm/lib/python3.9/site-packages/pandas/util/_decorators.py:311: SettingWithCopyWarning: \n",
      "A value is trying to be set on a copy of a slice from a DataFrame\n",
      "\n",
      "See the caveats in the documentation: https://pandas.pydata.org/pandas-docs/stable/user_guide/indexing.html#returning-a-view-versus-a-copy\n",
      "  return func(*args, **kwargs)\n"
     ]
    },
    {
     "name": "stdout",
     "output_type": "stream",
     "text": [
      "running dbscan\n",
      "Could not find k clusters\n",
      "0.0 0.0 0.10294294357299805\n",
      "running average 0.026219398478982848 0.1251478619704291 0.10683655738830566 \n",
      "\n"
     ]
    },
    {
     "name": "stderr",
     "output_type": "stream",
     "text": [
      "/var/folders/xz/_nh5vnzd6w35js_89b99q6r40000gn/T/ipykernel_94951/2986066781.py:49: SettingWithCopyWarning: \n",
      "A value is trying to be set on a copy of a slice from a DataFrame.\n",
      "Try using .loc[row_indexer,col_indexer] = value instead\n",
      "\n",
      "See the caveats in the documentation: https://pandas.pydata.org/pandas-docs/stable/user_guide/indexing.html#returning-a-view-versus-a-copy\n",
      "  frame_data[\"id_cumcounts\"] = frame_data.groupby(\"id\").cumcount()\n",
      "/opt/anaconda3/envs/tkm/lib/python3.9/site-packages/pandas/util/_decorators.py:311: SettingWithCopyWarning: \n",
      "A value is trying to be set on a copy of a slice from a DataFrame\n",
      "\n",
      "See the caveats in the documentation: https://pandas.pydata.org/pandas-docs/stable/user_guide/indexing.html#returning-a-view-versus-a-copy\n",
      "  return func(*args, **kwargs)\n"
     ]
    },
    {
     "name": "stdout",
     "output_type": "stream",
     "text": [
      "running dbscan\n",
      "Could not find k clusters\n",
      "0.44710019251030086 0.5456366032239665 0.04798078536987305\n",
      "running average 0.09636619748420251 0.19522931884601866 0.09702726205190022 \n",
      "\n"
     ]
    },
    {
     "name": "stderr",
     "output_type": "stream",
     "text": [
      "/var/folders/xz/_nh5vnzd6w35js_89b99q6r40000gn/T/ipykernel_94951/2986066781.py:49: SettingWithCopyWarning: \n",
      "A value is trying to be set on a copy of a slice from a DataFrame.\n",
      "Try using .loc[row_indexer,col_indexer] = value instead\n",
      "\n",
      "See the caveats in the documentation: https://pandas.pydata.org/pandas-docs/stable/user_guide/indexing.html#returning-a-view-versus-a-copy\n",
      "  frame_data[\"id_cumcounts\"] = frame_data.groupby(\"id\").cumcount()\n",
      "/opt/anaconda3/envs/tkm/lib/python3.9/site-packages/pandas/util/_decorators.py:311: SettingWithCopyWarning: \n",
      "A value is trying to be set on a copy of a slice from a DataFrame\n",
      "\n",
      "See the caveats in the documentation: https://pandas.pydata.org/pandas-docs/stable/user_guide/indexing.html#returning-a-view-versus-a-copy\n",
      "  return func(*args, **kwargs)\n"
     ]
    },
    {
     "name": "stdout",
     "output_type": "stream",
     "text": [
      "running dbscan\n",
      "1.0 0.282855038257206 0.05076193809509277\n",
      "running average 0.225456740700745 0.20774727876190255 0.0904179300580706 \n",
      "\n"
     ]
    },
    {
     "name": "stderr",
     "output_type": "stream",
     "text": [
      "/var/folders/xz/_nh5vnzd6w35js_89b99q6r40000gn/T/ipykernel_94951/2986066781.py:49: SettingWithCopyWarning: \n",
      "A value is trying to be set on a copy of a slice from a DataFrame.\n",
      "Try using .loc[row_indexer,col_indexer] = value instead\n",
      "\n",
      "See the caveats in the documentation: https://pandas.pydata.org/pandas-docs/stable/user_guide/indexing.html#returning-a-view-versus-a-copy\n",
      "  frame_data[\"id_cumcounts\"] = frame_data.groupby(\"id\").cumcount()\n",
      "/opt/anaconda3/envs/tkm/lib/python3.9/site-packages/pandas/util/_decorators.py:311: SettingWithCopyWarning: \n",
      "A value is trying to be set on a copy of a slice from a DataFrame\n",
      "\n",
      "See the caveats in the documentation: https://pandas.pydata.org/pandas-docs/stable/user_guide/indexing.html#returning-a-view-versus-a-copy\n",
      "  return func(*args, **kwargs)\n"
     ]
    },
    {
     "name": "stdout",
     "output_type": "stream",
     "text": [
      "running dbscan\n",
      "Could not find k clusters\n",
      "0.3095675372361637 0.370829987493862 0.1643080711364746\n",
      "running average 0.23597059026767236 0.22813261735339752 0.0996541976928711 \n",
      "\n"
     ]
    },
    {
     "name": "stderr",
     "output_type": "stream",
     "text": [
      "/var/folders/xz/_nh5vnzd6w35js_89b99q6r40000gn/T/ipykernel_94951/2986066781.py:49: SettingWithCopyWarning: \n",
      "A value is trying to be set on a copy of a slice from a DataFrame.\n",
      "Try using .loc[row_indexer,col_indexer] = value instead\n",
      "\n",
      "See the caveats in the documentation: https://pandas.pydata.org/pandas-docs/stable/user_guide/indexing.html#returning-a-view-versus-a-copy\n",
      "  frame_data[\"id_cumcounts\"] = frame_data.groupby(\"id\").cumcount()\n",
      "/opt/anaconda3/envs/tkm/lib/python3.9/site-packages/pandas/util/_decorators.py:311: SettingWithCopyWarning: \n",
      "A value is trying to be set on a copy of a slice from a DataFrame\n",
      "\n",
      "See the caveats in the documentation: https://pandas.pydata.org/pandas-docs/stable/user_guide/indexing.html#returning-a-view-versus-a-copy\n",
      "  return func(*args, **kwargs)\n"
     ]
    },
    {
     "name": "stdout",
     "output_type": "stream",
     "text": [
      "running dbscan\n",
      "Could not find k clusters\n",
      "0.0735807749205444 0.014502516634643425 0.03131699562072754\n",
      "running average 0.2179272774513248 0.20439593949575818 0.0920611752404107 \n",
      "\n"
     ]
    },
    {
     "name": "stderr",
     "output_type": "stream",
     "text": [
      "/var/folders/xz/_nh5vnzd6w35js_89b99q6r40000gn/T/ipykernel_94951/2986066781.py:49: SettingWithCopyWarning: \n",
      "A value is trying to be set on a copy of a slice from a DataFrame.\n",
      "Try using .loc[row_indexer,col_indexer] = value instead\n",
      "\n",
      "See the caveats in the documentation: https://pandas.pydata.org/pandas-docs/stable/user_guide/indexing.html#returning-a-view-versus-a-copy\n",
      "  frame_data[\"id_cumcounts\"] = frame_data.groupby(\"id\").cumcount()\n",
      "/opt/anaconda3/envs/tkm/lib/python3.9/site-packages/pandas/util/_decorators.py:311: SettingWithCopyWarning: \n",
      "A value is trying to be set on a copy of a slice from a DataFrame\n",
      "\n",
      "See the caveats in the documentation: https://pandas.pydata.org/pandas-docs/stable/user_guide/indexing.html#returning-a-view-versus-a-copy\n",
      "  return func(*args, **kwargs)\n"
     ]
    },
    {
     "name": "stdout",
     "output_type": "stream",
     "text": [
      "running dbscan\n",
      "1.0 1.0000000000000002 0.13873910903930664\n",
      "running average 0.29613454970619235 0.2839563455461824 0.0967289686203003 \n",
      "\n"
     ]
    },
    {
     "name": "stderr",
     "output_type": "stream",
     "text": [
      "/var/folders/xz/_nh5vnzd6w35js_89b99q6r40000gn/T/ipykernel_94951/2986066781.py:49: SettingWithCopyWarning: \n",
      "A value is trying to be set on a copy of a slice from a DataFrame.\n",
      "Try using .loc[row_indexer,col_indexer] = value instead\n",
      "\n",
      "See the caveats in the documentation: https://pandas.pydata.org/pandas-docs/stable/user_guide/indexing.html#returning-a-view-versus-a-copy\n",
      "  frame_data[\"id_cumcounts\"] = frame_data.groupby(\"id\").cumcount()\n",
      "/opt/anaconda3/envs/tkm/lib/python3.9/site-packages/pandas/util/_decorators.py:311: SettingWithCopyWarning: \n",
      "A value is trying to be set on a copy of a slice from a DataFrame\n",
      "\n",
      "See the caveats in the documentation: https://pandas.pydata.org/pandas-docs/stable/user_guide/indexing.html#returning-a-view-versus-a-copy\n",
      "  return func(*args, **kwargs)\n"
     ]
    },
    {
     "name": "stdout",
     "output_type": "stream",
     "text": [
      "running dbscan\n",
      "Could not find k clusters\n",
      "8.567957322992811e-16 5.949970363276023e-17 0.08736085891723633\n",
      "running average 0.2692132270056295 0.2581421323147113 0.09587732228365811 \n",
      "\n"
     ]
    },
    {
     "name": "stderr",
     "output_type": "stream",
     "text": [
      "/var/folders/xz/_nh5vnzd6w35js_89b99q6r40000gn/T/ipykernel_94951/2986066781.py:49: SettingWithCopyWarning: \n",
      "A value is trying to be set on a copy of a slice from a DataFrame.\n",
      "Try using .loc[row_indexer,col_indexer] = value instead\n",
      "\n",
      "See the caveats in the documentation: https://pandas.pydata.org/pandas-docs/stable/user_guide/indexing.html#returning-a-view-versus-a-copy\n",
      "  frame_data[\"id_cumcounts\"] = frame_data.groupby(\"id\").cumcount()\n",
      "/opt/anaconda3/envs/tkm/lib/python3.9/site-packages/pandas/util/_decorators.py:311: SettingWithCopyWarning: \n",
      "A value is trying to be set on a copy of a slice from a DataFrame\n",
      "\n",
      "See the caveats in the documentation: https://pandas.pydata.org/pandas-docs/stable/user_guide/indexing.html#returning-a-view-versus-a-copy\n",
      "  return func(*args, **kwargs)\n"
     ]
    },
    {
     "name": "stdout",
     "output_type": "stream",
     "text": [
      "running dbscan\n",
      "1.0 1.0 0.07402515411376953\n",
      "running average 0.33011212475516033 0.3199636212884853 0.09405630826950073 \n",
      "\n"
     ]
    },
    {
     "name": "stderr",
     "output_type": "stream",
     "text": [
      "/var/folders/xz/_nh5vnzd6w35js_89b99q6r40000gn/T/ipykernel_94951/2986066781.py:49: SettingWithCopyWarning: \n",
      "A value is trying to be set on a copy of a slice from a DataFrame.\n",
      "Try using .loc[row_indexer,col_indexer] = value instead\n",
      "\n",
      "See the caveats in the documentation: https://pandas.pydata.org/pandas-docs/stable/user_guide/indexing.html#returning-a-view-versus-a-copy\n",
      "  frame_data[\"id_cumcounts\"] = frame_data.groupby(\"id\").cumcount()\n",
      "/opt/anaconda3/envs/tkm/lib/python3.9/site-packages/pandas/util/_decorators.py:311: SettingWithCopyWarning: \n",
      "A value is trying to be set on a copy of a slice from a DataFrame\n",
      "\n",
      "See the caveats in the documentation: https://pandas.pydata.org/pandas-docs/stable/user_guide/indexing.html#returning-a-view-versus-a-copy\n",
      "  return func(*args, **kwargs)\n"
     ]
    },
    {
     "name": "stdout",
     "output_type": "stream",
     "text": [
      "running dbscan\n",
      "Could not find k clusters\n",
      "1.3041294188617789e-15 1.16440126692982e-17 0.022308826446533203\n",
      "running average 0.3047188843893789 0.2953510350355249 0.08853727120619553 \n",
      "\n"
     ]
    },
    {
     "name": "stderr",
     "output_type": "stream",
     "text": [
      "/var/folders/xz/_nh5vnzd6w35js_89b99q6r40000gn/T/ipykernel_94951/2986066781.py:49: SettingWithCopyWarning: \n",
      "A value is trying to be set on a copy of a slice from a DataFrame.\n",
      "Try using .loc[row_indexer,col_indexer] = value instead\n",
      "\n",
      "See the caveats in the documentation: https://pandas.pydata.org/pandas-docs/stable/user_guide/indexing.html#returning-a-view-versus-a-copy\n",
      "  frame_data[\"id_cumcounts\"] = frame_data.groupby(\"id\").cumcount()\n",
      "/opt/anaconda3/envs/tkm/lib/python3.9/site-packages/pandas/util/_decorators.py:311: SettingWithCopyWarning: \n",
      "A value is trying to be set on a copy of a slice from a DataFrame\n",
      "\n",
      "See the caveats in the documentation: https://pandas.pydata.org/pandas-docs/stable/user_guide/indexing.html#returning-a-view-versus-a-copy\n",
      "  return func(*args, **kwargs)\n"
     ]
    },
    {
     "name": "stdout",
     "output_type": "stream",
     "text": [
      "running dbscan\n",
      "1.0 1.0 0.1024019718170166\n",
      "running average 0.354381821218709 0.3456831039615588 0.08952760696411133 \n",
      "\n"
     ]
    },
    {
     "name": "stderr",
     "output_type": "stream",
     "text": [
      "/var/folders/xz/_nh5vnzd6w35js_89b99q6r40000gn/T/ipykernel_94951/2986066781.py:49: SettingWithCopyWarning: \n",
      "A value is trying to be set on a copy of a slice from a DataFrame.\n",
      "Try using .loc[row_indexer,col_indexer] = value instead\n",
      "\n",
      "See the caveats in the documentation: https://pandas.pydata.org/pandas-docs/stable/user_guide/indexing.html#returning-a-view-versus-a-copy\n",
      "  frame_data[\"id_cumcounts\"] = frame_data.groupby(\"id\").cumcount()\n",
      "/opt/anaconda3/envs/tkm/lib/python3.9/site-packages/pandas/util/_decorators.py:311: SettingWithCopyWarning: \n",
      "A value is trying to be set on a copy of a slice from a DataFrame\n",
      "\n",
      "See the caveats in the documentation: https://pandas.pydata.org/pandas-docs/stable/user_guide/indexing.html#returning-a-view-versus-a-copy\n",
      "  return func(*args, **kwargs)\n"
     ]
    },
    {
     "name": "stdout",
     "output_type": "stream",
     "text": [
      "running dbscan\n",
      "1.0 0.9999999999999994 0.041986942291259766\n",
      "running average 0.3974230331374617 0.38930423036412154 0.08635822931925456 \n",
      "\n"
     ]
    },
    {
     "name": "stderr",
     "output_type": "stream",
     "text": [
      "/var/folders/xz/_nh5vnzd6w35js_89b99q6r40000gn/T/ipykernel_94951/2986066781.py:49: SettingWithCopyWarning: \n",
      "A value is trying to be set on a copy of a slice from a DataFrame.\n",
      "Try using .loc[row_indexer,col_indexer] = value instead\n",
      "\n",
      "See the caveats in the documentation: https://pandas.pydata.org/pandas-docs/stable/user_guide/indexing.html#returning-a-view-versus-a-copy\n",
      "  frame_data[\"id_cumcounts\"] = frame_data.groupby(\"id\").cumcount()\n",
      "/opt/anaconda3/envs/tkm/lib/python3.9/site-packages/pandas/util/_decorators.py:311: SettingWithCopyWarning: \n",
      "A value is trying to be set on a copy of a slice from a DataFrame\n",
      "\n",
      "See the caveats in the documentation: https://pandas.pydata.org/pandas-docs/stable/user_guide/indexing.html#returning-a-view-versus-a-copy\n",
      "  return func(*args, **kwargs)\n"
     ]
    },
    {
     "name": "stdout",
     "output_type": "stream",
     "text": [
      "running dbscan\n",
      "Could not find k clusters\n",
      "2.8620718733532493e-15 0.878118957132055 0.03221487998962402\n",
      "running average 0.3725840935663705 0.41985515078711744 0.08297426998615265 \n",
      "\n"
     ]
    },
    {
     "name": "stderr",
     "output_type": "stream",
     "text": [
      "/var/folders/xz/_nh5vnzd6w35js_89b99q6r40000gn/T/ipykernel_94951/2986066781.py:49: SettingWithCopyWarning: \n",
      "A value is trying to be set on a copy of a slice from a DataFrame.\n",
      "Try using .loc[row_indexer,col_indexer] = value instead\n",
      "\n",
      "See the caveats in the documentation: https://pandas.pydata.org/pandas-docs/stable/user_guide/indexing.html#returning-a-view-versus-a-copy\n",
      "  frame_data[\"id_cumcounts\"] = frame_data.groupby(\"id\").cumcount()\n",
      "/opt/anaconda3/envs/tkm/lib/python3.9/site-packages/pandas/util/_decorators.py:311: SettingWithCopyWarning: \n",
      "A value is trying to be set on a copy of a slice from a DataFrame\n",
      "\n",
      "See the caveats in the documentation: https://pandas.pydata.org/pandas-docs/stable/user_guide/indexing.html#returning-a-view-versus-a-copy\n",
      "  return func(*args, **kwargs)\n"
     ]
    },
    {
     "name": "stdout",
     "output_type": "stream",
     "text": [
      "running dbscan\n",
      "Could not find k clusters\n",
      "0.7210466904560623 0.7485500656944087 0.13485503196716309\n",
      "running average 0.3930818933834112 0.439190145781664 0.08602607951444738 \n",
      "\n"
     ]
    },
    {
     "name": "stderr",
     "output_type": "stream",
     "text": [
      "/var/folders/xz/_nh5vnzd6w35js_89b99q6r40000gn/T/ipykernel_94951/2986066781.py:49: SettingWithCopyWarning: \n",
      "A value is trying to be set on a copy of a slice from a DataFrame.\n",
      "Try using .loc[row_indexer,col_indexer] = value instead\n",
      "\n",
      "See the caveats in the documentation: https://pandas.pydata.org/pandas-docs/stable/user_guide/indexing.html#returning-a-view-versus-a-copy\n",
      "  frame_data[\"id_cumcounts\"] = frame_data.groupby(\"id\").cumcount()\n",
      "/opt/anaconda3/envs/tkm/lib/python3.9/site-packages/pandas/util/_decorators.py:311: SettingWithCopyWarning: \n",
      "A value is trying to be set on a copy of a slice from a DataFrame\n",
      "\n",
      "See the caveats in the documentation: https://pandas.pydata.org/pandas-docs/stable/user_guide/indexing.html#returning-a-view-versus-a-copy\n",
      "  return func(*args, **kwargs)\n"
     ]
    },
    {
     "name": "stdout",
     "output_type": "stream",
     "text": [
      "running dbscan\n",
      "Could not find k clusters\n",
      "-4.7505187694474876e-17 0.0 0.20834994316101074\n",
      "running average 0.37124401041766614 0.4147906932382382 0.09282184971703424 \n",
      "\n"
     ]
    },
    {
     "name": "stderr",
     "output_type": "stream",
     "text": [
      "/var/folders/xz/_nh5vnzd6w35js_89b99q6r40000gn/T/ipykernel_94951/2986066781.py:49: SettingWithCopyWarning: \n",
      "A value is trying to be set on a copy of a slice from a DataFrame.\n",
      "Try using .loc[row_indexer,col_indexer] = value instead\n",
      "\n",
      "See the caveats in the documentation: https://pandas.pydata.org/pandas-docs/stable/user_guide/indexing.html#returning-a-view-versus-a-copy\n",
      "  frame_data[\"id_cumcounts\"] = frame_data.groupby(\"id\").cumcount()\n",
      "/opt/anaconda3/envs/tkm/lib/python3.9/site-packages/pandas/util/_decorators.py:311: SettingWithCopyWarning: \n",
      "A value is trying to be set on a copy of a slice from a DataFrame\n",
      "\n",
      "See the caveats in the documentation: https://pandas.pydata.org/pandas-docs/stable/user_guide/indexing.html#returning-a-view-versus-a-copy\n",
      "  return func(*args, **kwargs)\n"
     ]
    },
    {
     "name": "stdout",
     "output_type": "stream",
     "text": [
      "running dbscan\n",
      "Could not find k clusters\n",
      "-7.526604992190021e-16 3.0106419968817015e-15 0.09919285774230957\n",
      "running average 0.351704851974631 0.39295960412043635 0.09315716592889083 \n",
      "\n"
     ]
    },
    {
     "name": "stderr",
     "output_type": "stream",
     "text": [
      "/var/folders/xz/_nh5vnzd6w35js_89b99q6r40000gn/T/ipykernel_94951/2986066781.py:49: SettingWithCopyWarning: \n",
      "A value is trying to be set on a copy of a slice from a DataFrame.\n",
      "Try using .loc[row_indexer,col_indexer] = value instead\n",
      "\n",
      "See the caveats in the documentation: https://pandas.pydata.org/pandas-docs/stable/user_guide/indexing.html#returning-a-view-versus-a-copy\n",
      "  frame_data[\"id_cumcounts\"] = frame_data.groupby(\"id\").cumcount()\n",
      "/opt/anaconda3/envs/tkm/lib/python3.9/site-packages/pandas/util/_decorators.py:311: SettingWithCopyWarning: \n",
      "A value is trying to be set on a copy of a slice from a DataFrame\n",
      "\n",
      "See the caveats in the documentation: https://pandas.pydata.org/pandas-docs/stable/user_guide/indexing.html#returning-a-view-versus-a-copy\n",
      "  return func(*args, **kwargs)\n"
     ]
    },
    {
     "name": "stdout",
     "output_type": "stream",
     "text": [
      "running dbscan\n",
      "1.0 0.999999999999999 0.1228790283203125\n",
      "running average 0.3841196093758995 0.42331162391441446 0.09464325904846191 \n",
      "\n"
     ]
    },
    {
     "name": "stderr",
     "output_type": "stream",
     "text": [
      "/var/folders/xz/_nh5vnzd6w35js_89b99q6r40000gn/T/ipykernel_94951/2986066781.py:49: SettingWithCopyWarning: \n",
      "A value is trying to be set on a copy of a slice from a DataFrame.\n",
      "Try using .loc[row_indexer,col_indexer] = value instead\n",
      "\n",
      "See the caveats in the documentation: https://pandas.pydata.org/pandas-docs/stable/user_guide/indexing.html#returning-a-view-versus-a-copy\n",
      "  frame_data[\"id_cumcounts\"] = frame_data.groupby(\"id\").cumcount()\n",
      "/opt/anaconda3/envs/tkm/lib/python3.9/site-packages/pandas/util/_decorators.py:311: SettingWithCopyWarning: \n",
      "A value is trying to be set on a copy of a slice from a DataFrame\n",
      "\n",
      "See the caveats in the documentation: https://pandas.pydata.org/pandas-docs/stable/user_guide/indexing.html#returning-a-view-versus-a-copy\n",
      "  return func(*args, **kwargs)\n"
     ]
    },
    {
     "name": "stdout",
     "output_type": "stream",
     "text": [
      "running dbscan\n",
      "Could not find k clusters\n",
      "0.016992874510649836 0.0015721885989389995 0.24596619606018066\n",
      "running average 0.3666373839061257 0.40322879366129655 0.10184911319187709 \n",
      "\n"
     ]
    },
    {
     "name": "stderr",
     "output_type": "stream",
     "text": [
      "/var/folders/xz/_nh5vnzd6w35js_89b99q6r40000gn/T/ipykernel_94951/2986066781.py:49: SettingWithCopyWarning: \n",
      "A value is trying to be set on a copy of a slice from a DataFrame.\n",
      "Try using .loc[row_indexer,col_indexer] = value instead\n",
      "\n",
      "See the caveats in the documentation: https://pandas.pydata.org/pandas-docs/stable/user_guide/indexing.html#returning-a-view-versus-a-copy\n",
      "  frame_data[\"id_cumcounts\"] = frame_data.groupby(\"id\").cumcount()\n",
      "/opt/anaconda3/envs/tkm/lib/python3.9/site-packages/pandas/util/_decorators.py:311: SettingWithCopyWarning: \n",
      "A value is trying to be set on a copy of a slice from a DataFrame\n",
      "\n",
      "See the caveats in the documentation: https://pandas.pydata.org/pandas-docs/stable/user_guide/indexing.html#returning-a-view-versus-a-copy\n",
      "  return func(*args, **kwargs)\n"
     ]
    },
    {
     "name": "stdout",
     "output_type": "stream",
     "text": [
      "running dbscan\n",
      "1.0 0.9999999999999992 0.12572813034057617\n",
      "running average 0.3954265937285745 0.43035475758578307 0.1029345230622725 \n",
      "\n"
     ]
    },
    {
     "name": "stderr",
     "output_type": "stream",
     "text": [
      "/var/folders/xz/_nh5vnzd6w35js_89b99q6r40000gn/T/ipykernel_94951/2986066781.py:49: SettingWithCopyWarning: \n",
      "A value is trying to be set on a copy of a slice from a DataFrame.\n",
      "Try using .loc[row_indexer,col_indexer] = value instead\n",
      "\n",
      "See the caveats in the documentation: https://pandas.pydata.org/pandas-docs/stable/user_guide/indexing.html#returning-a-view-versus-a-copy\n",
      "  frame_data[\"id_cumcounts\"] = frame_data.groupby(\"id\").cumcount()\n",
      "/opt/anaconda3/envs/tkm/lib/python3.9/site-packages/pandas/util/_decorators.py:311: SettingWithCopyWarning: \n",
      "A value is trying to be set on a copy of a slice from a DataFrame\n",
      "\n",
      "See the caveats in the documentation: https://pandas.pydata.org/pandas-docs/stable/user_guide/indexing.html#returning-a-view-versus-a-copy\n",
      "  return func(*args, **kwargs)\n"
     ]
    },
    {
     "name": "stdout",
     "output_type": "stream",
     "text": [
      "running dbscan\n",
      "Could not find k clusters\n",
      "5.741367600794384e-15 -5.6768578524741085e-15 0.04501199722290039\n",
      "running average 0.3782341331316802 0.4116436811690097 0.10041615237360416 \n",
      "\n"
     ]
    },
    {
     "name": "stderr",
     "output_type": "stream",
     "text": [
      "/var/folders/xz/_nh5vnzd6w35js_89b99q6r40000gn/T/ipykernel_94951/2986066781.py:49: SettingWithCopyWarning: \n",
      "A value is trying to be set on a copy of a slice from a DataFrame.\n",
      "Try using .loc[row_indexer,col_indexer] = value instead\n",
      "\n",
      "See the caveats in the documentation: https://pandas.pydata.org/pandas-docs/stable/user_guide/indexing.html#returning-a-view-versus-a-copy\n",
      "  frame_data[\"id_cumcounts\"] = frame_data.groupby(\"id\").cumcount()\n",
      "/opt/anaconda3/envs/tkm/lib/python3.9/site-packages/pandas/util/_decorators.py:311: SettingWithCopyWarning: \n",
      "A value is trying to be set on a copy of a slice from a DataFrame\n",
      "\n",
      "See the caveats in the documentation: https://pandas.pydata.org/pandas-docs/stable/user_guide/indexing.html#returning-a-view-versus-a-copy\n",
      "  return func(*args, **kwargs)\n"
     ]
    },
    {
     "name": "stdout",
     "output_type": "stream",
     "text": [
      "running dbscan\n",
      "1.0 1.0 0.047472238540649414\n",
      "running average 0.4041410442511935 0.43615852778696756 0.0982101559638977 \n",
      "\n"
     ]
    },
    {
     "name": "stderr",
     "output_type": "stream",
     "text": [
      "/var/folders/xz/_nh5vnzd6w35js_89b99q6r40000gn/T/ipykernel_94951/2986066781.py:49: SettingWithCopyWarning: \n",
      "A value is trying to be set on a copy of a slice from a DataFrame.\n",
      "Try using .loc[row_indexer,col_indexer] = value instead\n",
      "\n",
      "See the caveats in the documentation: https://pandas.pydata.org/pandas-docs/stable/user_guide/indexing.html#returning-a-view-versus-a-copy\n",
      "  frame_data[\"id_cumcounts\"] = frame_data.groupby(\"id\").cumcount()\n",
      "/opt/anaconda3/envs/tkm/lib/python3.9/site-packages/pandas/util/_decorators.py:311: SettingWithCopyWarning: \n",
      "A value is trying to be set on a copy of a slice from a DataFrame\n",
      "\n",
      "See the caveats in the documentation: https://pandas.pydata.org/pandas-docs/stable/user_guide/indexing.html#returning-a-view-versus-a-copy\n",
      "  return func(*args, **kwargs)\n"
     ]
    },
    {
     "name": "stdout",
     "output_type": "stream",
     "text": [
      "running dbscan\n",
      "1.0 1.0000000000000007 0.04483771324157715\n",
      "running average 0.4279754024811458 0.45871218667548885 0.09607525825500489 \n",
      "\n"
     ]
    },
    {
     "name": "stderr",
     "output_type": "stream",
     "text": [
      "/var/folders/xz/_nh5vnzd6w35js_89b99q6r40000gn/T/ipykernel_94951/2986066781.py:49: SettingWithCopyWarning: \n",
      "A value is trying to be set on a copy of a slice from a DataFrame.\n",
      "Try using .loc[row_indexer,col_indexer] = value instead\n",
      "\n",
      "See the caveats in the documentation: https://pandas.pydata.org/pandas-docs/stable/user_guide/indexing.html#returning-a-view-versus-a-copy\n",
      "  frame_data[\"id_cumcounts\"] = frame_data.groupby(\"id\").cumcount()\n",
      "/opt/anaconda3/envs/tkm/lib/python3.9/site-packages/pandas/util/_decorators.py:311: SettingWithCopyWarning: \n",
      "A value is trying to be set on a copy of a slice from a DataFrame\n",
      "\n",
      "See the caveats in the documentation: https://pandas.pydata.org/pandas-docs/stable/user_guide/indexing.html#returning-a-view-versus-a-copy\n",
      "  return func(*args, **kwargs)\n"
     ]
    },
    {
     "name": "stdout",
     "output_type": "stream",
     "text": [
      "running dbscan\n",
      "1.0 0.9999999999999979 0.23623323440551758\n",
      "running average 0.44997634853956325 0.47953094872643154 0.10146594964540921 \n",
      "\n"
     ]
    },
    {
     "name": "stderr",
     "output_type": "stream",
     "text": [
      "/var/folders/xz/_nh5vnzd6w35js_89b99q6r40000gn/T/ipykernel_94951/2986066781.py:49: SettingWithCopyWarning: \n",
      "A value is trying to be set on a copy of a slice from a DataFrame.\n",
      "Try using .loc[row_indexer,col_indexer] = value instead\n",
      "\n",
      "See the caveats in the documentation: https://pandas.pydata.org/pandas-docs/stable/user_guide/indexing.html#returning-a-view-versus-a-copy\n",
      "  frame_data[\"id_cumcounts\"] = frame_data.groupby(\"id\").cumcount()\n",
      "/opt/anaconda3/envs/tkm/lib/python3.9/site-packages/pandas/util/_decorators.py:311: SettingWithCopyWarning: \n",
      "A value is trying to be set on a copy of a slice from a DataFrame\n",
      "\n",
      "See the caveats in the documentation: https://pandas.pydata.org/pandas-docs/stable/user_guide/indexing.html#returning-a-view-versus-a-copy\n",
      "  return func(*args, **kwargs)\n"
     ]
    },
    {
     "name": "stdout",
     "output_type": "stream",
     "text": [
      "running dbscan\n",
      "Could not find k clusters\n",
      "1.23416973305466e-15 2.3073608052739583e-15 0.1524648666381836\n",
      "running average 0.43331055785291284 0.4617705432180453 0.10335479842291938 \n",
      "\n"
     ]
    },
    {
     "name": "stderr",
     "output_type": "stream",
     "text": [
      "/var/folders/xz/_nh5vnzd6w35js_89b99q6r40000gn/T/ipykernel_94951/2986066781.py:49: SettingWithCopyWarning: \n",
      "A value is trying to be set on a copy of a slice from a DataFrame.\n",
      "Try using .loc[row_indexer,col_indexer] = value instead\n",
      "\n",
      "See the caveats in the documentation: https://pandas.pydata.org/pandas-docs/stable/user_guide/indexing.html#returning-a-view-versus-a-copy\n",
      "  frame_data[\"id_cumcounts\"] = frame_data.groupby(\"id\").cumcount()\n",
      "/opt/anaconda3/envs/tkm/lib/python3.9/site-packages/pandas/util/_decorators.py:311: SettingWithCopyWarning: \n",
      "A value is trying to be set on a copy of a slice from a DataFrame\n",
      "\n",
      "See the caveats in the documentation: https://pandas.pydata.org/pandas-docs/stable/user_guide/indexing.html#returning-a-view-versus-a-copy\n",
      "  return func(*args, **kwargs)\n"
     ]
    },
    {
     "name": "stdout",
     "output_type": "stream",
     "text": [
      "running dbscan\n",
      "Could not find k clusters\n",
      "-4.834731958811347e-16 0.0 0.2028489112854004\n",
      "running average 0.41783518078673737 0.4452787381031151 0.10690815959657941 \n",
      "\n"
     ]
    },
    {
     "name": "stderr",
     "output_type": "stream",
     "text": [
      "/var/folders/xz/_nh5vnzd6w35js_89b99q6r40000gn/T/ipykernel_94951/2986066781.py:49: SettingWithCopyWarning: \n",
      "A value is trying to be set on a copy of a slice from a DataFrame.\n",
      "Try using .loc[row_indexer,col_indexer] = value instead\n",
      "\n",
      "See the caveats in the documentation: https://pandas.pydata.org/pandas-docs/stable/user_guide/indexing.html#returning-a-view-versus-a-copy\n",
      "  frame_data[\"id_cumcounts\"] = frame_data.groupby(\"id\").cumcount()\n",
      "/opt/anaconda3/envs/tkm/lib/python3.9/site-packages/pandas/util/_decorators.py:311: SettingWithCopyWarning: \n",
      "A value is trying to be set on a copy of a slice from a DataFrame\n",
      "\n",
      "See the caveats in the documentation: https://pandas.pydata.org/pandas-docs/stable/user_guide/indexing.html#returning-a-view-versus-a-copy\n",
      "  return func(*args, **kwargs)\n"
     ]
    },
    {
     "name": "stdout",
     "output_type": "stream",
     "text": [
      "running dbscan\n",
      "1.0 1.0000000000000016 0.14335107803344727\n",
      "running average 0.43790982972512577 0.4644070574788698 0.10816481195647142 \n",
      "\n"
     ]
    },
    {
     "name": "stderr",
     "output_type": "stream",
     "text": [
      "/var/folders/xz/_nh5vnzd6w35js_89b99q6r40000gn/T/ipykernel_94951/2986066781.py:49: SettingWithCopyWarning: \n",
      "A value is trying to be set on a copy of a slice from a DataFrame.\n",
      "Try using .loc[row_indexer,col_indexer] = value instead\n",
      "\n",
      "See the caveats in the documentation: https://pandas.pydata.org/pandas-docs/stable/user_guide/indexing.html#returning-a-view-versus-a-copy\n",
      "  frame_data[\"id_cumcounts\"] = frame_data.groupby(\"id\").cumcount()\n",
      "/opt/anaconda3/envs/tkm/lib/python3.9/site-packages/pandas/util/_decorators.py:311: SettingWithCopyWarning: \n",
      "A value is trying to be set on a copy of a slice from a DataFrame\n",
      "\n",
      "See the caveats in the documentation: https://pandas.pydata.org/pandas-docs/stable/user_guide/indexing.html#returning-a-view-versus-a-copy\n",
      "  return func(*args, **kwargs)\n"
     ]
    },
    {
     "name": "stdout",
     "output_type": "stream",
     "text": [
      "running dbscan\n",
      "1.0 1.0000000000000029 0.1251671314239502\n",
      "running average 0.4566461687342882 0.4822601555629076 0.1087315559387207 \n",
      "\n"
     ]
    },
    {
     "name": "stderr",
     "output_type": "stream",
     "text": [
      "/var/folders/xz/_nh5vnzd6w35js_89b99q6r40000gn/T/ipykernel_94951/2986066781.py:49: SettingWithCopyWarning: \n",
      "A value is trying to be set on a copy of a slice from a DataFrame.\n",
      "Try using .loc[row_indexer,col_indexer] = value instead\n",
      "\n",
      "See the caveats in the documentation: https://pandas.pydata.org/pandas-docs/stable/user_guide/indexing.html#returning-a-view-versus-a-copy\n",
      "  frame_data[\"id_cumcounts\"] = frame_data.groupby(\"id\").cumcount()\n",
      "/opt/anaconda3/envs/tkm/lib/python3.9/site-packages/pandas/util/_decorators.py:311: SettingWithCopyWarning: \n",
      "A value is trying to be set on a copy of a slice from a DataFrame\n",
      "\n",
      "See the caveats in the documentation: https://pandas.pydata.org/pandas-docs/stable/user_guide/indexing.html#returning-a-view-versus-a-copy\n",
      "  return func(*args, **kwargs)\n"
     ]
    },
    {
     "name": "stdout",
     "output_type": "stream",
     "text": [
      "running dbscan\n",
      "0.03202684349764611 0.03267085051363329 0.1054689884185791\n",
      "running average 0.44294877114600945 0.4677572747548665 0.10862631182516774 \n",
      "\n"
     ]
    },
    {
     "name": "stderr",
     "output_type": "stream",
     "text": [
      "/var/folders/xz/_nh5vnzd6w35js_89b99q6r40000gn/T/ipykernel_94951/2986066781.py:49: SettingWithCopyWarning: \n",
      "A value is trying to be set on a copy of a slice from a DataFrame.\n",
      "Try using .loc[row_indexer,col_indexer] = value instead\n",
      "\n",
      "See the caveats in the documentation: https://pandas.pydata.org/pandas-docs/stable/user_guide/indexing.html#returning-a-view-versus-a-copy\n",
      "  frame_data[\"id_cumcounts\"] = frame_data.groupby(\"id\").cumcount()\n",
      "/opt/anaconda3/envs/tkm/lib/python3.9/site-packages/pandas/util/_decorators.py:311: SettingWithCopyWarning: \n",
      "A value is trying to be set on a copy of a slice from a DataFrame\n",
      "\n",
      "See the caveats in the documentation: https://pandas.pydata.org/pandas-docs/stable/user_guide/indexing.html#returning-a-view-versus-a-copy\n",
      "  return func(*args, **kwargs)\n"
     ]
    },
    {
     "name": "stdout",
     "output_type": "stream",
     "text": [
      "running dbscan\n",
      "Could not find k clusters\n",
      "1.3110147552826795e-15 5.348661262241258e-15 0.14329314231872559\n",
      "running average 0.4291066220476967 0.45313985991877703 0.10970965027809143 \n",
      "\n"
     ]
    },
    {
     "name": "stderr",
     "output_type": "stream",
     "text": [
      "/var/folders/xz/_nh5vnzd6w35js_89b99q6r40000gn/T/ipykernel_94951/2986066781.py:49: SettingWithCopyWarning: \n",
      "A value is trying to be set on a copy of a slice from a DataFrame.\n",
      "Try using .loc[row_indexer,col_indexer] = value instead\n",
      "\n",
      "See the caveats in the documentation: https://pandas.pydata.org/pandas-docs/stable/user_guide/indexing.html#returning-a-view-versus-a-copy\n",
      "  frame_data[\"id_cumcounts\"] = frame_data.groupby(\"id\").cumcount()\n",
      "/opt/anaconda3/envs/tkm/lib/python3.9/site-packages/pandas/util/_decorators.py:311: SettingWithCopyWarning: \n",
      "A value is trying to be set on a copy of a slice from a DataFrame\n",
      "\n",
      "See the caveats in the documentation: https://pandas.pydata.org/pandas-docs/stable/user_guide/indexing.html#returning-a-view-versus-a-copy\n",
      "  return func(*args, **kwargs)\n"
     ]
    },
    {
     "name": "stdout",
     "output_type": "stream",
     "text": [
      "running dbscan\n",
      "Could not find k clusters\n",
      "0.0 -3.232121525787391e-27 0.04967927932739258\n",
      "running average 0.41610339107655436 0.4394083490121474 0.10789054812807025 \n",
      "\n"
     ]
    },
    {
     "name": "stderr",
     "output_type": "stream",
     "text": [
      "/var/folders/xz/_nh5vnzd6w35js_89b99q6r40000gn/T/ipykernel_94951/2986066781.py:49: SettingWithCopyWarning: \n",
      "A value is trying to be set on a copy of a slice from a DataFrame.\n",
      "Try using .loc[row_indexer,col_indexer] = value instead\n",
      "\n",
      "See the caveats in the documentation: https://pandas.pydata.org/pandas-docs/stable/user_guide/indexing.html#returning-a-view-versus-a-copy\n",
      "  frame_data[\"id_cumcounts\"] = frame_data.groupby(\"id\").cumcount()\n",
      "/opt/anaconda3/envs/tkm/lib/python3.9/site-packages/pandas/util/_decorators.py:311: SettingWithCopyWarning: \n",
      "A value is trying to be set on a copy of a slice from a DataFrame\n",
      "\n",
      "See the caveats in the documentation: https://pandas.pydata.org/pandas-docs/stable/user_guide/indexing.html#returning-a-view-versus-a-copy\n",
      "  return func(*args, **kwargs)\n"
     ]
    },
    {
     "name": "stdout",
     "output_type": "stream",
     "text": [
      "running dbscan\n",
      "0.2624580925529277 0.07143196903014466 0.22378182411193848\n",
      "running average 0.41158441170821236 0.4285855143067944 0.11129911506877226 \n",
      "\n"
     ]
    },
    {
     "name": "stderr",
     "output_type": "stream",
     "text": [
      "/var/folders/xz/_nh5vnzd6w35js_89b99q6r40000gn/T/ipykernel_94951/2986066781.py:49: SettingWithCopyWarning: \n",
      "A value is trying to be set on a copy of a slice from a DataFrame.\n",
      "Try using .loc[row_indexer,col_indexer] = value instead\n",
      "\n",
      "See the caveats in the documentation: https://pandas.pydata.org/pandas-docs/stable/user_guide/indexing.html#returning-a-view-versus-a-copy\n",
      "  frame_data[\"id_cumcounts\"] = frame_data.groupby(\"id\").cumcount()\n",
      "/opt/anaconda3/envs/tkm/lib/python3.9/site-packages/pandas/util/_decorators.py:311: SettingWithCopyWarning: \n",
      "A value is trying to be set on a copy of a slice from a DataFrame\n",
      "\n",
      "See the caveats in the documentation: https://pandas.pydata.org/pandas-docs/stable/user_guide/indexing.html#returning-a-view-versus-a-copy\n",
      "  return func(*args, **kwargs)\n"
     ]
    },
    {
     "name": "stdout",
     "output_type": "stream",
     "text": [
      "running dbscan\n",
      "Could not find k clusters\n",
      "0.24204748145544586 0.024008260103485744 0.23096680641174316\n",
      "running average 0.4067404994152762 0.4170261641866999 0.11471819196428572 \n",
      "\n"
     ]
    },
    {
     "name": "stderr",
     "output_type": "stream",
     "text": [
      "/var/folders/xz/_nh5vnzd6w35js_89b99q6r40000gn/T/ipykernel_94951/2986066781.py:49: SettingWithCopyWarning: \n",
      "A value is trying to be set on a copy of a slice from a DataFrame.\n",
      "Try using .loc[row_indexer,col_indexer] = value instead\n",
      "\n",
      "See the caveats in the documentation: https://pandas.pydata.org/pandas-docs/stable/user_guide/indexing.html#returning-a-view-versus-a-copy\n",
      "  frame_data[\"id_cumcounts\"] = frame_data.groupby(\"id\").cumcount()\n",
      "/opt/anaconda3/envs/tkm/lib/python3.9/site-packages/pandas/util/_decorators.py:311: SettingWithCopyWarning: \n",
      "A value is trying to be set on a copy of a slice from a DataFrame\n",
      "\n",
      "See the caveats in the documentation: https://pandas.pydata.org/pandas-docs/stable/user_guide/indexing.html#returning-a-view-versus-a-copy\n",
      "  return func(*args, **kwargs)\n"
     ]
    },
    {
     "name": "stdout",
     "output_type": "stream",
     "text": [
      "running dbscan\n",
      "1.0 0.2592450249175991 0.06183290481567383\n",
      "running average 0.4232199299870741 0.4126433547625582 0.1132491562101576 \n",
      "\n"
     ]
    },
    {
     "name": "stderr",
     "output_type": "stream",
     "text": [
      "/var/folders/xz/_nh5vnzd6w35js_89b99q6r40000gn/T/ipykernel_94951/2986066781.py:49: SettingWithCopyWarning: \n",
      "A value is trying to be set on a copy of a slice from a DataFrame.\n",
      "Try using .loc[row_indexer,col_indexer] = value instead\n",
      "\n",
      "See the caveats in the documentation: https://pandas.pydata.org/pandas-docs/stable/user_guide/indexing.html#returning-a-view-versus-a-copy\n",
      "  frame_data[\"id_cumcounts\"] = frame_data.groupby(\"id\").cumcount()\n",
      "/opt/anaconda3/envs/tkm/lib/python3.9/site-packages/pandas/util/_decorators.py:311: SettingWithCopyWarning: \n",
      "A value is trying to be set on a copy of a slice from a DataFrame\n",
      "\n",
      "See the caveats in the documentation: https://pandas.pydata.org/pandas-docs/stable/user_guide/indexing.html#returning-a-view-versus-a-copy\n",
      "  return func(*args, **kwargs)\n"
     ]
    },
    {
     "name": "stdout",
     "output_type": "stream",
     "text": [
      "running dbscan\n",
      "-0.49999999999999944 0.03984036774409976 0.00922083854675293\n",
      "running average 0.39826803998742344 0.4025675983566539 0.11043758005709262 \n",
      "\n"
     ]
    },
    {
     "name": "stderr",
     "output_type": "stream",
     "text": [
      "/var/folders/xz/_nh5vnzd6w35js_89b99q6r40000gn/T/ipykernel_94951/2986066781.py:49: SettingWithCopyWarning: \n",
      "A value is trying to be set on a copy of a slice from a DataFrame.\n",
      "Try using .loc[row_indexer,col_indexer] = value instead\n",
      "\n",
      "See the caveats in the documentation: https://pandas.pydata.org/pandas-docs/stable/user_guide/indexing.html#returning-a-view-versus-a-copy\n",
      "  frame_data[\"id_cumcounts\"] = frame_data.groupby(\"id\").cumcount()\n",
      "/opt/anaconda3/envs/tkm/lib/python3.9/site-packages/pandas/util/_decorators.py:311: SettingWithCopyWarning: \n",
      "A value is trying to be set on a copy of a slice from a DataFrame\n",
      "\n",
      "See the caveats in the documentation: https://pandas.pydata.org/pandas-docs/stable/user_guide/indexing.html#returning-a-view-versus-a-copy\n",
      "  return func(*args, **kwargs)\n"
     ]
    },
    {
     "name": "stdout",
     "output_type": "stream",
     "text": [
      "running dbscan\n",
      "Could not find k clusters\n",
      "0.3413981293185833 0.08856301819539293 0.14591312408447266\n",
      "running average 0.39677146339087505 0.39430431993135756 0.11137114700518157 \n",
      "\n"
     ]
    },
    {
     "name": "stderr",
     "output_type": "stream",
     "text": [
      "/var/folders/xz/_nh5vnzd6w35js_89b99q6r40000gn/T/ipykernel_94951/2986066781.py:49: SettingWithCopyWarning: \n",
      "A value is trying to be set on a copy of a slice from a DataFrame.\n",
      "Try using .loc[row_indexer,col_indexer] = value instead\n",
      "\n",
      "See the caveats in the documentation: https://pandas.pydata.org/pandas-docs/stable/user_guide/indexing.html#returning-a-view-versus-a-copy\n",
      "  frame_data[\"id_cumcounts\"] = frame_data.groupby(\"id\").cumcount()\n",
      "/opt/anaconda3/envs/tkm/lib/python3.9/site-packages/pandas/util/_decorators.py:311: SettingWithCopyWarning: \n",
      "A value is trying to be set on a copy of a slice from a DataFrame\n",
      "\n",
      "See the caveats in the documentation: https://pandas.pydata.org/pandas-docs/stable/user_guide/indexing.html#returning-a-view-versus-a-copy\n",
      "  return func(*args, **kwargs)\n"
     ]
    },
    {
     "name": "stdout",
     "output_type": "stream",
     "text": [
      "running dbscan\n",
      "Could not find k clusters\n",
      "-9.768095051421775e-16 2.6862261391397517e-15 0.0602571964263916\n",
      "running average 0.38659783612444226 0.38419395275363055 0.11006053288777669 \n",
      "\n"
     ]
    },
    {
     "name": "stderr",
     "output_type": "stream",
     "text": [
      "/var/folders/xz/_nh5vnzd6w35js_89b99q6r40000gn/T/ipykernel_94951/2986066781.py:49: SettingWithCopyWarning: \n",
      "A value is trying to be set on a copy of a slice from a DataFrame.\n",
      "Try using .loc[row_indexer,col_indexer] = value instead\n",
      "\n",
      "See the caveats in the documentation: https://pandas.pydata.org/pandas-docs/stable/user_guide/indexing.html#returning-a-view-versus-a-copy\n",
      "  frame_data[\"id_cumcounts\"] = frame_data.groupby(\"id\").cumcount()\n",
      "/opt/anaconda3/envs/tkm/lib/python3.9/site-packages/pandas/util/_decorators.py:311: SettingWithCopyWarning: \n",
      "A value is trying to be set on a copy of a slice from a DataFrame\n",
      "\n",
      "See the caveats in the documentation: https://pandas.pydata.org/pandas-docs/stable/user_guide/indexing.html#returning-a-view-versus-a-copy\n",
      "  return func(*args, **kwargs)\n"
     ]
    },
    {
     "name": "stdout",
     "output_type": "stream",
     "text": [
      "running dbscan\n",
      "1.0 1.0 0.06229567527770996\n",
      "running average 0.40193289022133116 0.39958910393478975 0.10886641144752503 \n",
      "\n"
     ]
    },
    {
     "name": "stderr",
     "output_type": "stream",
     "text": [
      "/var/folders/xz/_nh5vnzd6w35js_89b99q6r40000gn/T/ipykernel_94951/2986066781.py:49: SettingWithCopyWarning: \n",
      "A value is trying to be set on a copy of a slice from a DataFrame.\n",
      "Try using .loc[row_indexer,col_indexer] = value instead\n",
      "\n",
      "See the caveats in the documentation: https://pandas.pydata.org/pandas-docs/stable/user_guide/indexing.html#returning-a-view-versus-a-copy\n",
      "  frame_data[\"id_cumcounts\"] = frame_data.groupby(\"id\").cumcount()\n",
      "/opt/anaconda3/envs/tkm/lib/python3.9/site-packages/pandas/util/_decorators.py:311: SettingWithCopyWarning: \n",
      "A value is trying to be set on a copy of a slice from a DataFrame\n",
      "\n",
      "See the caveats in the documentation: https://pandas.pydata.org/pandas-docs/stable/user_guide/indexing.html#returning-a-view-versus-a-copy\n",
      "  return func(*args, **kwargs)\n"
     ]
    },
    {
     "name": "stdout",
     "output_type": "stream",
     "text": [
      "running dbscan\n",
      "Could not find k clusters\n",
      "3.8528132900203675e-16 -2.4658005056164055e-15 0.1314377784729004\n",
      "running average 0.39212964899642067 0.38984302822906314 0.1094169325944854 \n",
      "\n"
     ]
    },
    {
     "name": "stderr",
     "output_type": "stream",
     "text": [
      "/var/folders/xz/_nh5vnzd6w35js_89b99q6r40000gn/T/ipykernel_94951/2986066781.py:49: SettingWithCopyWarning: \n",
      "A value is trying to be set on a copy of a slice from a DataFrame.\n",
      "Try using .loc[row_indexer,col_indexer] = value instead\n",
      "\n",
      "See the caveats in the documentation: https://pandas.pydata.org/pandas-docs/stable/user_guide/indexing.html#returning-a-view-versus-a-copy\n",
      "  frame_data[\"id_cumcounts\"] = frame_data.groupby(\"id\").cumcount()\n",
      "/opt/anaconda3/envs/tkm/lib/python3.9/site-packages/pandas/util/_decorators.py:311: SettingWithCopyWarning: \n",
      "A value is trying to be set on a copy of a slice from a DataFrame\n",
      "\n",
      "See the caveats in the documentation: https://pandas.pydata.org/pandas-docs/stable/user_guide/indexing.html#returning-a-view-versus-a-copy\n",
      "  return func(*args, **kwargs)\n"
     ]
    },
    {
     "name": "stdout",
     "output_type": "stream",
     "text": [
      "running dbscan\n",
      "Could not find k clusters\n",
      "0.3457565962188223 0.01279781416157091 0.08848309516906738\n",
      "running average 0.39102552869219215 0.3808657612274562 0.1089185078938802 \n",
      "\n"
     ]
    },
    {
     "name": "stderr",
     "output_type": "stream",
     "text": [
      "/var/folders/xz/_nh5vnzd6w35js_89b99q6r40000gn/T/ipykernel_94951/2986066781.py:49: SettingWithCopyWarning: \n",
      "A value is trying to be set on a copy of a slice from a DataFrame.\n",
      "Try using .loc[row_indexer,col_indexer] = value instead\n",
      "\n",
      "See the caveats in the documentation: https://pandas.pydata.org/pandas-docs/stable/user_guide/indexing.html#returning-a-view-versus-a-copy\n",
      "  frame_data[\"id_cumcounts\"] = frame_data.groupby(\"id\").cumcount()\n",
      "/opt/anaconda3/envs/tkm/lib/python3.9/site-packages/pandas/util/_decorators.py:311: SettingWithCopyWarning: \n",
      "A value is trying to be set on a copy of a slice from a DataFrame\n",
      "\n",
      "See the caveats in the documentation: https://pandas.pydata.org/pandas-docs/stable/user_guide/indexing.html#returning-a-view-versus-a-copy\n",
      "  return func(*args, **kwargs)\n"
     ]
    },
    {
     "name": "stdout",
     "output_type": "stream",
     "text": [
      "running dbscan\n",
      "1.0 1.0 0.26381993293762207\n",
      "running average 0.40518772569935047 0.3952642318965851 0.11252086661582769 \n",
      "\n"
     ]
    },
    {
     "name": "stderr",
     "output_type": "stream",
     "text": [
      "/var/folders/xz/_nh5vnzd6w35js_89b99q6r40000gn/T/ipykernel_94951/2986066781.py:49: SettingWithCopyWarning: \n",
      "A value is trying to be set on a copy of a slice from a DataFrame.\n",
      "Try using .loc[row_indexer,col_indexer] = value instead\n",
      "\n",
      "See the caveats in the documentation: https://pandas.pydata.org/pandas-docs/stable/user_guide/indexing.html#returning-a-view-versus-a-copy\n",
      "  frame_data[\"id_cumcounts\"] = frame_data.groupby(\"id\").cumcount()\n",
      "/opt/anaconda3/envs/tkm/lib/python3.9/site-packages/pandas/util/_decorators.py:311: SettingWithCopyWarning: \n",
      "A value is trying to be set on a copy of a slice from a DataFrame\n",
      "\n",
      "See the caveats in the documentation: https://pandas.pydata.org/pandas-docs/stable/user_guide/indexing.html#returning-a-view-versus-a-copy\n",
      "  return func(*args, **kwargs)\n"
     ]
    },
    {
     "name": "stdout",
     "output_type": "stream",
     "text": [
      "running dbscan\n",
      "Could not find k clusters\n",
      "4.651262893746769e-16 -9.302525787493573e-16 0.0472569465637207\n",
      "running average 0.39597891375163796 0.38628095389893546 0.11103759570555254 \n",
      "\n"
     ]
    },
    {
     "name": "stderr",
     "output_type": "stream",
     "text": [
      "/var/folders/xz/_nh5vnzd6w35js_89b99q6r40000gn/T/ipykernel_94951/2986066781.py:49: SettingWithCopyWarning: \n",
      "A value is trying to be set on a copy of a slice from a DataFrame.\n",
      "Try using .loc[row_indexer,col_indexer] = value instead\n",
      "\n",
      "See the caveats in the documentation: https://pandas.pydata.org/pandas-docs/stable/user_guide/indexing.html#returning-a-view-versus-a-copy\n",
      "  frame_data[\"id_cumcounts\"] = frame_data.groupby(\"id\").cumcount()\n",
      "/opt/anaconda3/envs/tkm/lib/python3.9/site-packages/pandas/util/_decorators.py:311: SettingWithCopyWarning: \n",
      "A value is trying to be set on a copy of a slice from a DataFrame\n",
      "\n",
      "See the caveats in the documentation: https://pandas.pydata.org/pandas-docs/stable/user_guide/indexing.html#returning-a-view-versus-a-copy\n",
      "  return func(*args, **kwargs)\n"
     ]
    },
    {
     "name": "stdout",
     "output_type": "stream",
     "text": [
      "running dbscan\n",
      "1.0 1.0 0.2079329490661621\n",
      "running average 0.40940160455715713 0.3999191549234036 0.11319082578023275 \n",
      "\n"
     ]
    },
    {
     "name": "stderr",
     "output_type": "stream",
     "text": [
      "/var/folders/xz/_nh5vnzd6w35js_89b99q6r40000gn/T/ipykernel_94951/2986066781.py:49: SettingWithCopyWarning: \n",
      "A value is trying to be set on a copy of a slice from a DataFrame.\n",
      "Try using .loc[row_indexer,col_indexer] = value instead\n",
      "\n",
      "See the caveats in the documentation: https://pandas.pydata.org/pandas-docs/stable/user_guide/indexing.html#returning-a-view-versus-a-copy\n",
      "  frame_data[\"id_cumcounts\"] = frame_data.groupby(\"id\").cumcount()\n",
      "/opt/anaconda3/envs/tkm/lib/python3.9/site-packages/pandas/util/_decorators.py:311: SettingWithCopyWarning: \n",
      "A value is trying to be set on a copy of a slice from a DataFrame\n",
      "\n",
      "See the caveats in the documentation: https://pandas.pydata.org/pandas-docs/stable/user_guide/indexing.html#returning-a-view-versus-a-copy\n",
      "  return func(*args, **kwargs)\n"
     ]
    },
    {
     "name": "stdout",
     "output_type": "stream",
     "text": [
      "running dbscan\n",
      "Could not find k clusters\n",
      "5.69410870255049e-16 -9.964690229469088e-16 0.26000499725341797\n",
      "running average 0.4005015696754798 0.39122526025115567 0.11638243820356287 \n",
      "\n"
     ]
    },
    {
     "name": "stderr",
     "output_type": "stream",
     "text": [
      "/var/folders/xz/_nh5vnzd6w35js_89b99q6r40000gn/T/ipykernel_94951/2986066781.py:49: SettingWithCopyWarning: \n",
      "A value is trying to be set on a copy of a slice from a DataFrame.\n",
      "Try using .loc[row_indexer,col_indexer] = value instead\n",
      "\n",
      "See the caveats in the documentation: https://pandas.pydata.org/pandas-docs/stable/user_guide/indexing.html#returning-a-view-versus-a-copy\n",
      "  frame_data[\"id_cumcounts\"] = frame_data.groupby(\"id\").cumcount()\n",
      "/opt/anaconda3/envs/tkm/lib/python3.9/site-packages/pandas/util/_decorators.py:311: SettingWithCopyWarning: \n",
      "A value is trying to be set on a copy of a slice from a DataFrame\n",
      "\n",
      "See the caveats in the documentation: https://pandas.pydata.org/pandas-docs/stable/user_guide/indexing.html#returning-a-view-versus-a-copy\n",
      "  return func(*args, **kwargs)\n"
     ]
    },
    {
     "name": "stdout",
     "output_type": "stream",
     "text": [
      "running dbscan\n",
      "Could not find k clusters\n",
      "-1.4708103320348745e-15 7.117671428245046e-15 0.10593628883361816\n",
      "running average 0.3919802596823845 0.3829013185436844 0.11616017970633 \n",
      "\n"
     ]
    },
    {
     "name": "stderr",
     "output_type": "stream",
     "text": [
      "/var/folders/xz/_nh5vnzd6w35js_89b99q6r40000gn/T/ipykernel_94951/2986066781.py:49: SettingWithCopyWarning: \n",
      "A value is trying to be set on a copy of a slice from a DataFrame.\n",
      "Try using .loc[row_indexer,col_indexer] = value instead\n",
      "\n",
      "See the caveats in the documentation: https://pandas.pydata.org/pandas-docs/stable/user_guide/indexing.html#returning-a-view-versus-a-copy\n",
      "  frame_data[\"id_cumcounts\"] = frame_data.groupby(\"id\").cumcount()\n",
      "/opt/anaconda3/envs/tkm/lib/python3.9/site-packages/pandas/util/_decorators.py:311: SettingWithCopyWarning: \n",
      "A value is trying to be set on a copy of a slice from a DataFrame\n",
      "\n",
      "See the caveats in the documentation: https://pandas.pydata.org/pandas-docs/stable/user_guide/indexing.html#returning-a-view-versus-a-copy\n",
      "  return func(*args, **kwargs)\n"
     ]
    },
    {
     "name": "stdout",
     "output_type": "stream",
     "text": [
      "running dbscan\n",
      "Could not find k clusters\n",
      "0.0 -3.232121525787391e-27 0.026281118392944336\n",
      "running average 0.38381400427233486 0.3749242077406909 0.11428769926230113 \n",
      "\n"
     ]
    },
    {
     "name": "stderr",
     "output_type": "stream",
     "text": [
      "/var/folders/xz/_nh5vnzd6w35js_89b99q6r40000gn/T/ipykernel_94951/2986066781.py:49: SettingWithCopyWarning: \n",
      "A value is trying to be set on a copy of a slice from a DataFrame.\n",
      "Try using .loc[row_indexer,col_indexer] = value instead\n",
      "\n",
      "See the caveats in the documentation: https://pandas.pydata.org/pandas-docs/stable/user_guide/indexing.html#returning-a-view-versus-a-copy\n",
      "  frame_data[\"id_cumcounts\"] = frame_data.groupby(\"id\").cumcount()\n",
      "/opt/anaconda3/envs/tkm/lib/python3.9/site-packages/pandas/util/_decorators.py:311: SettingWithCopyWarning: \n",
      "A value is trying to be set on a copy of a slice from a DataFrame\n",
      "\n",
      "See the caveats in the documentation: https://pandas.pydata.org/pandas-docs/stable/user_guide/indexing.html#returning-a-view-versus-a-copy\n",
      "  return func(*args, **kwargs)\n"
     ]
    },
    {
     "name": "stdout",
     "output_type": "stream",
     "text": [
      "running dbscan\n",
      "Could not find k clusters\n",
      "1.0174592655124171e-15 1.9022064529127506e-15 0.1902480125427246\n",
      "running average 0.37598106540963416 0.3672726932970034 0.11583790973741181 \n",
      "\n"
     ]
    },
    {
     "name": "stderr",
     "output_type": "stream",
     "text": [
      "/var/folders/xz/_nh5vnzd6w35js_89b99q6r40000gn/T/ipykernel_94951/2986066781.py:49: SettingWithCopyWarning: \n",
      "A value is trying to be set on a copy of a slice from a DataFrame.\n",
      "Try using .loc[row_indexer,col_indexer] = value instead\n",
      "\n",
      "See the caveats in the documentation: https://pandas.pydata.org/pandas-docs/stable/user_guide/indexing.html#returning-a-view-versus-a-copy\n",
      "  frame_data[\"id_cumcounts\"] = frame_data.groupby(\"id\").cumcount()\n",
      "/opt/anaconda3/envs/tkm/lib/python3.9/site-packages/pandas/util/_decorators.py:311: SettingWithCopyWarning: \n",
      "A value is trying to be set on a copy of a slice from a DataFrame\n",
      "\n",
      "See the caveats in the documentation: https://pandas.pydata.org/pandas-docs/stable/user_guide/indexing.html#returning-a-view-versus-a-copy\n",
      "  return func(*args, **kwargs)\n"
     ]
    },
    {
     "name": "stdout",
     "output_type": "stream",
     "text": [
      "running dbscan\n",
      "0.999999999999999 1.0 0.24974489212036133\n",
      "running average 0.3884614441014415 0.3799272394310633 0.1185160493850708 \n",
      "\n"
     ]
    },
    {
     "name": "stderr",
     "output_type": "stream",
     "text": [
      "/var/folders/xz/_nh5vnzd6w35js_89b99q6r40000gn/T/ipykernel_94951/2986066781.py:49: SettingWithCopyWarning: \n",
      "A value is trying to be set on a copy of a slice from a DataFrame.\n",
      "Try using .loc[row_indexer,col_indexer] = value instead\n",
      "\n",
      "See the caveats in the documentation: https://pandas.pydata.org/pandas-docs/stable/user_guide/indexing.html#returning-a-view-versus-a-copy\n",
      "  frame_data[\"id_cumcounts\"] = frame_data.groupby(\"id\").cumcount()\n",
      "/opt/anaconda3/envs/tkm/lib/python3.9/site-packages/pandas/util/_decorators.py:311: SettingWithCopyWarning: \n",
      "A value is trying to be set on a copy of a slice from a DataFrame\n",
      "\n",
      "See the caveats in the documentation: https://pandas.pydata.org/pandas-docs/stable/user_guide/indexing.html#returning-a-view-versus-a-copy\n",
      "  return func(*args, **kwargs)\n"
     ]
    },
    {
     "name": "stdout",
     "output_type": "stream",
     "text": [
      "running dbscan\n",
      "1.0 0.9999999999999994 0.20962190628051758\n",
      "running average 0.4004523961778838 0.3920855288539837 0.12030243873596191 \n",
      "\n"
     ]
    },
    {
     "name": "stderr",
     "output_type": "stream",
     "text": [
      "/var/folders/xz/_nh5vnzd6w35js_89b99q6r40000gn/T/ipykernel_94951/2986066781.py:49: SettingWithCopyWarning: \n",
      "A value is trying to be set on a copy of a slice from a DataFrame.\n",
      "Try using .loc[row_indexer,col_indexer] = value instead\n",
      "\n",
      "See the caveats in the documentation: https://pandas.pydata.org/pandas-docs/stable/user_guide/indexing.html#returning-a-view-versus-a-copy\n",
      "  frame_data[\"id_cumcounts\"] = frame_data.groupby(\"id\").cumcount()\n",
      "/opt/anaconda3/envs/tkm/lib/python3.9/site-packages/pandas/util/_decorators.py:311: SettingWithCopyWarning: \n",
      "A value is trying to be set on a copy of a slice from a DataFrame\n",
      "\n",
      "See the caveats in the documentation: https://pandas.pydata.org/pandas-docs/stable/user_guide/indexing.html#returning-a-view-versus-a-copy\n",
      "  return func(*args, **kwargs)\n"
     ]
    },
    {
     "name": "stdout",
     "output_type": "stream",
     "text": [
      "running dbscan\n",
      "1.0 1.0 0.12925195693969727\n",
      "running average 0.4119821577898476 0.40377619176063784 0.12047454485526451 \n",
      "\n"
     ]
    },
    {
     "name": "stderr",
     "output_type": "stream",
     "text": [
      "/var/folders/xz/_nh5vnzd6w35js_89b99q6r40000gn/T/ipykernel_94951/2986066781.py:49: SettingWithCopyWarning: \n",
      "A value is trying to be set on a copy of a slice from a DataFrame.\n",
      "Try using .loc[row_indexer,col_indexer] = value instead\n",
      "\n",
      "See the caveats in the documentation: https://pandas.pydata.org/pandas-docs/stable/user_guide/indexing.html#returning-a-view-versus-a-copy\n",
      "  frame_data[\"id_cumcounts\"] = frame_data.groupby(\"id\").cumcount()\n",
      "/opt/anaconda3/envs/tkm/lib/python3.9/site-packages/pandas/util/_decorators.py:311: SettingWithCopyWarning: \n",
      "A value is trying to be set on a copy of a slice from a DataFrame\n",
      "\n",
      "See the caveats in the documentation: https://pandas.pydata.org/pandas-docs/stable/user_guide/indexing.html#returning-a-view-versus-a-copy\n",
      "  return func(*args, **kwargs)\n"
     ]
    },
    {
     "name": "stdout",
     "output_type": "stream",
     "text": [
      "running dbscan\n",
      "Could not find k clusters\n",
      "0.0 -5.163950295468654e-16 0.20227599143981934\n",
      "running average 0.40420890952966176 0.39615777304817296 0.12201796837572781 \n",
      "\n"
     ]
    },
    {
     "name": "stderr",
     "output_type": "stream",
     "text": [
      "/var/folders/xz/_nh5vnzd6w35js_89b99q6r40000gn/T/ipykernel_94951/2986066781.py:49: SettingWithCopyWarning: \n",
      "A value is trying to be set on a copy of a slice from a DataFrame.\n",
      "Try using .loc[row_indexer,col_indexer] = value instead\n",
      "\n",
      "See the caveats in the documentation: https://pandas.pydata.org/pandas-docs/stable/user_guide/indexing.html#returning-a-view-versus-a-copy\n",
      "  frame_data[\"id_cumcounts\"] = frame_data.groupby(\"id\").cumcount()\n",
      "/opt/anaconda3/envs/tkm/lib/python3.9/site-packages/pandas/util/_decorators.py:311: SettingWithCopyWarning: \n",
      "A value is trying to be set on a copy of a slice from a DataFrame\n",
      "\n",
      "See the caveats in the documentation: https://pandas.pydata.org/pandas-docs/stable/user_guide/indexing.html#returning-a-view-versus-a-copy\n",
      "  return func(*args, **kwargs)\n"
     ]
    },
    {
     "name": "stdout",
     "output_type": "stream",
     "text": [
      "running dbscan\n",
      "Could not find k clusters\n",
      "3.1008419291645184e-16 0.0 0.06129884719848633\n",
      "running average 0.39672355935318654 0.3888215179917253 0.1208935402057789 \n",
      "\n"
     ]
    },
    {
     "name": "stderr",
     "output_type": "stream",
     "text": [
      "/var/folders/xz/_nh5vnzd6w35js_89b99q6r40000gn/T/ipykernel_94951/2986066781.py:49: SettingWithCopyWarning: \n",
      "A value is trying to be set on a copy of a slice from a DataFrame.\n",
      "Try using .loc[row_indexer,col_indexer] = value instead\n",
      "\n",
      "See the caveats in the documentation: https://pandas.pydata.org/pandas-docs/stable/user_guide/indexing.html#returning-a-view-versus-a-copy\n",
      "  frame_data[\"id_cumcounts\"] = frame_data.groupby(\"id\").cumcount()\n",
      "/opt/anaconda3/envs/tkm/lib/python3.9/site-packages/pandas/util/_decorators.py:311: SettingWithCopyWarning: \n",
      "A value is trying to be set on a copy of a slice from a DataFrame\n",
      "\n",
      "See the caveats in the documentation: https://pandas.pydata.org/pandas-docs/stable/user_guide/indexing.html#returning-a-view-versus-a-copy\n",
      "  return func(*args, **kwargs)\n"
     ]
    },
    {
     "name": "stdout",
     "output_type": "stream",
     "text": [
      "running dbscan\n",
      "Could not find k clusters\n",
      "-0.012508927492940703 0.06219449331066313 0.17138004302978516\n",
      "running average 0.38928296868325696 0.382882844815706 0.12181147662076083 \n",
      "\n"
     ]
    },
    {
     "name": "stderr",
     "output_type": "stream",
     "text": [
      "/var/folders/xz/_nh5vnzd6w35js_89b99q6r40000gn/T/ipykernel_94951/2986066781.py:49: SettingWithCopyWarning: \n",
      "A value is trying to be set on a copy of a slice from a DataFrame.\n",
      "Try using .loc[row_indexer,col_indexer] = value instead\n",
      "\n",
      "See the caveats in the documentation: https://pandas.pydata.org/pandas-docs/stable/user_guide/indexing.html#returning-a-view-versus-a-copy\n",
      "  frame_data[\"id_cumcounts\"] = frame_data.groupby(\"id\").cumcount()\n",
      "/opt/anaconda3/envs/tkm/lib/python3.9/site-packages/pandas/util/_decorators.py:311: SettingWithCopyWarning: \n",
      "A value is trying to be set on a copy of a slice from a DataFrame\n",
      "\n",
      "See the caveats in the documentation: https://pandas.pydata.org/pandas-docs/stable/user_guide/indexing.html#returning-a-view-versus-a-copy\n",
      "  return func(*args, **kwargs)\n"
     ]
    },
    {
     "name": "stdout",
     "output_type": "stream",
     "text": [
      "running dbscan\n",
      "Could not find k clusters\n",
      "2.0626795780376563e-15 -3.5360221337790727e-15 0.02039504051208496\n",
      "running average 0.38233148709962744 0.37604565115828253 0.1200004688331059 \n",
      "\n"
     ]
    },
    {
     "name": "stderr",
     "output_type": "stream",
     "text": [
      "/var/folders/xz/_nh5vnzd6w35js_89b99q6r40000gn/T/ipykernel_94951/2986066781.py:49: SettingWithCopyWarning: \n",
      "A value is trying to be set on a copy of a slice from a DataFrame.\n",
      "Try using .loc[row_indexer,col_indexer] = value instead\n",
      "\n",
      "See the caveats in the documentation: https://pandas.pydata.org/pandas-docs/stable/user_guide/indexing.html#returning-a-view-versus-a-copy\n",
      "  frame_data[\"id_cumcounts\"] = frame_data.groupby(\"id\").cumcount()\n",
      "/opt/anaconda3/envs/tkm/lib/python3.9/site-packages/pandas/util/_decorators.py:311: SettingWithCopyWarning: \n",
      "A value is trying to be set on a copy of a slice from a DataFrame\n",
      "\n",
      "See the caveats in the documentation: https://pandas.pydata.org/pandas-docs/stable/user_guide/indexing.html#returning-a-view-versus-a-copy\n",
      "  return func(*args, **kwargs)\n"
     ]
    },
    {
     "name": "stdout",
     "output_type": "stream",
     "text": [
      "running dbscan\n",
      "1.0 0.471266493535387 0.028371095657348633\n",
      "running average 0.393167776799634 0.37771619225261777 0.11839293597037331 \n",
      "\n"
     ]
    },
    {
     "name": "stderr",
     "output_type": "stream",
     "text": [
      "/var/folders/xz/_nh5vnzd6w35js_89b99q6r40000gn/T/ipykernel_94951/2986066781.py:49: SettingWithCopyWarning: \n",
      "A value is trying to be set on a copy of a slice from a DataFrame.\n",
      "Try using .loc[row_indexer,col_indexer] = value instead\n",
      "\n",
      "See the caveats in the documentation: https://pandas.pydata.org/pandas-docs/stable/user_guide/indexing.html#returning-a-view-versus-a-copy\n",
      "  frame_data[\"id_cumcounts\"] = frame_data.groupby(\"id\").cumcount()\n",
      "/opt/anaconda3/envs/tkm/lib/python3.9/site-packages/pandas/util/_decorators.py:311: SettingWithCopyWarning: \n",
      "A value is trying to be set on a copy of a slice from a DataFrame\n",
      "\n",
      "See the caveats in the documentation: https://pandas.pydata.org/pandas-docs/stable/user_guide/indexing.html#returning-a-view-versus-a-copy\n",
      "  return func(*args, **kwargs)\n"
     ]
    },
    {
     "name": "stdout",
     "output_type": "stream",
     "text": [
      "running dbscan\n",
      "Could not find k clusters\n",
      "4.505612389974575e-16 0.0 0.04843902587890625\n",
      "running average 0.38638902202722647 0.37120384411033125 0.11718683407224458 \n",
      "\n"
     ]
    },
    {
     "name": "stderr",
     "output_type": "stream",
     "text": [
      "/var/folders/xz/_nh5vnzd6w35js_89b99q6r40000gn/T/ipykernel_94951/2986066781.py:49: SettingWithCopyWarning: \n",
      "A value is trying to be set on a copy of a slice from a DataFrame.\n",
      "Try using .loc[row_indexer,col_indexer] = value instead\n",
      "\n",
      "See the caveats in the documentation: https://pandas.pydata.org/pandas-docs/stable/user_guide/indexing.html#returning-a-view-versus-a-copy\n",
      "  frame_data[\"id_cumcounts\"] = frame_data.groupby(\"id\").cumcount()\n",
      "/opt/anaconda3/envs/tkm/lib/python3.9/site-packages/pandas/util/_decorators.py:311: SettingWithCopyWarning: \n",
      "A value is trying to be set on a copy of a slice from a DataFrame\n",
      "\n",
      "See the caveats in the documentation: https://pandas.pydata.org/pandas-docs/stable/user_guide/indexing.html#returning-a-view-versus-a-copy\n",
      "  return func(*args, **kwargs)\n"
     ]
    },
    {
     "name": "stdout",
     "output_type": "stream",
     "text": [
      "running dbscan\n",
      "1.0 1.0000000000000013 0.26381707191467285\n",
      "running average 0.39678920809456164 0.3818614060745629 0.11967209234076032 \n",
      "\n"
     ]
    },
    {
     "name": "stderr",
     "output_type": "stream",
     "text": [
      "/var/folders/xz/_nh5vnzd6w35js_89b99q6r40000gn/T/ipykernel_94951/2986066781.py:49: SettingWithCopyWarning: \n",
      "A value is trying to be set on a copy of a slice from a DataFrame.\n",
      "Try using .loc[row_indexer,col_indexer] = value instead\n",
      "\n",
      "See the caveats in the documentation: https://pandas.pydata.org/pandas-docs/stable/user_guide/indexing.html#returning-a-view-versus-a-copy\n",
      "  frame_data[\"id_cumcounts\"] = frame_data.groupby(\"id\").cumcount()\n",
      "/opt/anaconda3/envs/tkm/lib/python3.9/site-packages/pandas/util/_decorators.py:311: SettingWithCopyWarning: \n",
      "A value is trying to be set on a copy of a slice from a DataFrame\n",
      "\n",
      "See the caveats in the documentation: https://pandas.pydata.org/pandas-docs/stable/user_guide/indexing.html#returning-a-view-versus-a-copy\n",
      "  return func(*args, **kwargs)\n"
     ]
    },
    {
     "name": "stdout",
     "output_type": "stream",
     "text": [
      "running dbscan\n",
      "Could not find k clusters\n",
      "-9.68160768065251e-16 1.968593561734309e-15 0.13442182540893555\n",
      "running average 0.39017605462631894 0.37549704930665356 0.1199179212252299 \n",
      "\n"
     ]
    },
    {
     "name": "stderr",
     "output_type": "stream",
     "text": [
      "/var/folders/xz/_nh5vnzd6w35js_89b99q6r40000gn/T/ipykernel_94951/2986066781.py:49: SettingWithCopyWarning: \n",
      "A value is trying to be set on a copy of a slice from a DataFrame.\n",
      "Try using .loc[row_indexer,col_indexer] = value instead\n",
      "\n",
      "See the caveats in the documentation: https://pandas.pydata.org/pandas-docs/stable/user_guide/indexing.html#returning-a-view-versus-a-copy\n",
      "  frame_data[\"id_cumcounts\"] = frame_data.groupby(\"id\").cumcount()\n",
      "/opt/anaconda3/envs/tkm/lib/python3.9/site-packages/pandas/util/_decorators.py:311: SettingWithCopyWarning: \n",
      "A value is trying to be set on a copy of a slice from a DataFrame\n",
      "\n",
      "See the caveats in the documentation: https://pandas.pydata.org/pandas-docs/stable/user_guide/indexing.html#returning-a-view-versus-a-copy\n",
      "  return func(*args, **kwargs)\n"
     ]
    },
    {
     "name": "stdout",
     "output_type": "stream",
     "text": [
      "running dbscan\n",
      "0.5918880034499526 0.08112297144601407 0.07767605781555176\n",
      "running average 0.39348280788572276 0.37067124475156116 0.11922543166113682 \n",
      "\n"
     ]
    },
    {
     "name": "stderr",
     "output_type": "stream",
     "text": [
      "/var/folders/xz/_nh5vnzd6w35js_89b99q6r40000gn/T/ipykernel_94951/2986066781.py:49: SettingWithCopyWarning: \n",
      "A value is trying to be set on a copy of a slice from a DataFrame.\n",
      "Try using .loc[row_indexer,col_indexer] = value instead\n",
      "\n",
      "See the caveats in the documentation: https://pandas.pydata.org/pandas-docs/stable/user_guide/indexing.html#returning-a-view-versus-a-copy\n",
      "  frame_data[\"id_cumcounts\"] = frame_data.groupby(\"id\").cumcount()\n",
      "/opt/anaconda3/envs/tkm/lib/python3.9/site-packages/pandas/util/_decorators.py:311: SettingWithCopyWarning: \n",
      "A value is trying to be set on a copy of a slice from a DataFrame\n",
      "\n",
      "See the caveats in the documentation: https://pandas.pydata.org/pandas-docs/stable/user_guide/indexing.html#returning-a-view-versus-a-copy\n",
      "  return func(*args, **kwargs)\n"
     ]
    },
    {
     "name": "stdout",
     "output_type": "stream",
     "text": [
      "running dbscan\n",
      "Could not find k clusters\n",
      "1.23416973305466e-15 0.024590045461404343 0.16771912574768066\n",
      "running average 0.38713631098434015 0.36508928992430056 0.1200075880173714 \n",
      "\n"
     ]
    },
    {
     "name": "stderr",
     "output_type": "stream",
     "text": [
      "/var/folders/xz/_nh5vnzd6w35js_89b99q6r40000gn/T/ipykernel_94951/2986066781.py:49: SettingWithCopyWarning: \n",
      "A value is trying to be set on a copy of a slice from a DataFrame.\n",
      "Try using .loc[row_indexer,col_indexer] = value instead\n",
      "\n",
      "See the caveats in the documentation: https://pandas.pydata.org/pandas-docs/stable/user_guide/indexing.html#returning-a-view-versus-a-copy\n",
      "  frame_data[\"id_cumcounts\"] = frame_data.groupby(\"id\").cumcount()\n",
      "/opt/anaconda3/envs/tkm/lib/python3.9/site-packages/pandas/util/_decorators.py:311: SettingWithCopyWarning: \n",
      "A value is trying to be set on a copy of a slice from a DataFrame\n",
      "\n",
      "See the caveats in the documentation: https://pandas.pydata.org/pandas-docs/stable/user_guide/indexing.html#returning-a-view-versus-a-copy\n",
      "  return func(*args, **kwargs)\n"
     ]
    },
    {
     "name": "stdout",
     "output_type": "stream",
     "text": [
      "running dbscan\n",
      "Could not find k clusters\n",
      "6.418617347547161e-17 9.788391455017436e-16 0.12353014945983887\n",
      "running average 0.3809912901750649 0.35929422183026405 0.12006350169106135 \n",
      "\n"
     ]
    },
    {
     "name": "stderr",
     "output_type": "stream",
     "text": [
      "/var/folders/xz/_nh5vnzd6w35js_89b99q6r40000gn/T/ipykernel_94951/2986066781.py:49: SettingWithCopyWarning: \n",
      "A value is trying to be set on a copy of a slice from a DataFrame.\n",
      "Try using .loc[row_indexer,col_indexer] = value instead\n",
      "\n",
      "See the caveats in the documentation: https://pandas.pydata.org/pandas-docs/stable/user_guide/indexing.html#returning-a-view-versus-a-copy\n",
      "  frame_data[\"id_cumcounts\"] = frame_data.groupby(\"id\").cumcount()\n",
      "/opt/anaconda3/envs/tkm/lib/python3.9/site-packages/pandas/util/_decorators.py:311: SettingWithCopyWarning: \n",
      "A value is trying to be set on a copy of a slice from a DataFrame\n",
      "\n",
      "See the caveats in the documentation: https://pandas.pydata.org/pandas-docs/stable/user_guide/indexing.html#returning-a-view-versus-a-copy\n",
      "  return func(*args, **kwargs)\n"
     ]
    },
    {
     "name": "stdout",
     "output_type": "stream",
     "text": [
      "running dbscan\n",
      "Could not find k clusters\n",
      "3.4509157845472834e-16 -2.3006105230410324e-15 0.07119107246398926\n",
      "running average 0.3750383012660795 0.3536802496141661 0.11929986998438835 \n",
      "\n"
     ]
    },
    {
     "name": "stderr",
     "output_type": "stream",
     "text": [
      "/var/folders/xz/_nh5vnzd6w35js_89b99q6r40000gn/T/ipykernel_94951/2986066781.py:49: SettingWithCopyWarning: \n",
      "A value is trying to be set on a copy of a slice from a DataFrame.\n",
      "Try using .loc[row_indexer,col_indexer] = value instead\n",
      "\n",
      "See the caveats in the documentation: https://pandas.pydata.org/pandas-docs/stable/user_guide/indexing.html#returning-a-view-versus-a-copy\n",
      "  frame_data[\"id_cumcounts\"] = frame_data.groupby(\"id\").cumcount()\n",
      "/opt/anaconda3/envs/tkm/lib/python3.9/site-packages/pandas/util/_decorators.py:311: SettingWithCopyWarning: \n",
      "A value is trying to be set on a copy of a slice from a DataFrame\n",
      "\n",
      "See the caveats in the documentation: https://pandas.pydata.org/pandas-docs/stable/user_guide/indexing.html#returning-a-view-versus-a-copy\n",
      "  return func(*args, **kwargs)\n"
     ]
    },
    {
     "name": "stdout",
     "output_type": "stream",
     "text": [
      "running dbscan\n",
      "1.0 1.0000000000000029 0.14589476585388184\n",
      "running average 0.3846530966312168 0.3636236303893328 0.11970902222853441 \n",
      "\n"
     ]
    },
    {
     "name": "stderr",
     "output_type": "stream",
     "text": [
      "/var/folders/xz/_nh5vnzd6w35js_89b99q6r40000gn/T/ipykernel_94951/2986066781.py:49: SettingWithCopyWarning: \n",
      "A value is trying to be set on a copy of a slice from a DataFrame.\n",
      "Try using .loc[row_indexer,col_indexer] = value instead\n",
      "\n",
      "See the caveats in the documentation: https://pandas.pydata.org/pandas-docs/stable/user_guide/indexing.html#returning-a-view-versus-a-copy\n",
      "  frame_data[\"id_cumcounts\"] = frame_data.groupby(\"id\").cumcount()\n",
      "/opt/anaconda3/envs/tkm/lib/python3.9/site-packages/pandas/util/_decorators.py:311: SettingWithCopyWarning: \n",
      "A value is trying to be set on a copy of a slice from a DataFrame\n",
      "\n",
      "See the caveats in the documentation: https://pandas.pydata.org/pandas-docs/stable/user_guide/indexing.html#returning-a-view-versus-a-copy\n",
      "  return func(*args, **kwargs)\n"
     ]
    },
    {
     "name": "stdout",
     "output_type": "stream",
     "text": [
      "running dbscan\n",
      "Could not find k clusters\n",
      "5.127091959662137e-16 1.6406694270911267e-15 0.04897809028625488\n",
      "running average 0.37882501940953167 0.3581141814440399 0.11863734144153017 \n",
      "\n"
     ]
    },
    {
     "name": "stderr",
     "output_type": "stream",
     "text": [
      "/var/folders/xz/_nh5vnzd6w35js_89b99q6r40000gn/T/ipykernel_94951/2986066781.py:49: SettingWithCopyWarning: \n",
      "A value is trying to be set on a copy of a slice from a DataFrame.\n",
      "Try using .loc[row_indexer,col_indexer] = value instead\n",
      "\n",
      "See the caveats in the documentation: https://pandas.pydata.org/pandas-docs/stable/user_guide/indexing.html#returning-a-view-versus-a-copy\n",
      "  frame_data[\"id_cumcounts\"] = frame_data.groupby(\"id\").cumcount()\n",
      "/opt/anaconda3/envs/tkm/lib/python3.9/site-packages/pandas/util/_decorators.py:311: SettingWithCopyWarning: \n",
      "A value is trying to be set on a copy of a slice from a DataFrame\n",
      "\n",
      "See the caveats in the documentation: https://pandas.pydata.org/pandas-docs/stable/user_guide/indexing.html#returning-a-view-versus-a-copy\n",
      "  return func(*args, **kwargs)\n"
     ]
    },
    {
     "name": "stdout",
     "output_type": "stream",
     "text": [
      "running dbscan\n",
      "Could not find k clusters\n",
      "0.03322008660033873 0.0047556330370615765 0.1419520378112793\n",
      "running average 0.37366673683028995 0.35284017325886113 0.11898532198436225 \n",
      "\n"
     ]
    },
    {
     "name": "stderr",
     "output_type": "stream",
     "text": [
      "/var/folders/xz/_nh5vnzd6w35js_89b99q6r40000gn/T/ipykernel_94951/2986066781.py:49: SettingWithCopyWarning: \n",
      "A value is trying to be set on a copy of a slice from a DataFrame.\n",
      "Try using .loc[row_indexer,col_indexer] = value instead\n",
      "\n",
      "See the caveats in the documentation: https://pandas.pydata.org/pandas-docs/stable/user_guide/indexing.html#returning-a-view-versus-a-copy\n",
      "  frame_data[\"id_cumcounts\"] = frame_data.groupby(\"id\").cumcount()\n",
      "/opt/anaconda3/envs/tkm/lib/python3.9/site-packages/pandas/util/_decorators.py:311: SettingWithCopyWarning: \n",
      "A value is trying to be set on a copy of a slice from a DataFrame\n",
      "\n",
      "See the caveats in the documentation: https://pandas.pydata.org/pandas-docs/stable/user_guide/indexing.html#returning-a-view-versus-a-copy\n",
      "  return func(*args, **kwargs)\n"
     ]
    },
    {
     "name": "stdout",
     "output_type": "stream",
     "text": [
      "running dbscan\n",
      "Could not find k clusters\n",
      "2.3344100414717803e-16 -8.559503485410632e-16 0.13904905319213867\n",
      "running average 0.36817163775925627 0.3476513471815249 0.11928037685506485 \n",
      "\n"
     ]
    }
   ],
   "source": [
    "FRAME_SIZE = 100\n",
    "FRAME_OVERLAP = 10\n",
    "\n",
    "sizes = [800,3000]\n",
    "# sizes = [15000, 20000]#[20000, 25000, 35000, 50000, 80000, 100000, 130000, 150000, 180000, 200000]\n",
    "#[800, 3000, 6000, 10000, 15000, \n",
    "methods = ['dbscan']#, 'agglomerative', 'kmeans', 'hdbscan', 'birch']\n",
    "\n",
    "\n",
    "for ind in range(len(sizes) -1):\n",
    "    min_size = sizes[ind]\n",
    "    max_size = sizes[ind+1]\n",
    "\n",
    "    for method in methods: \n",
    "\n",
    "        metric = 'static'#'average_ami'\n",
    "\n",
    "        f = open(method + '_' + metric + \"_log_%d_%d_05_50.txt\" %(min_size, max_size), \"w\")\n",
    "        lt_ami =[]\n",
    "        full_ami_list = []\n",
    "        runtime_list=[]\n",
    "\n",
    "        for filename in os.listdir(\"../../full_data/\"):\n",
    "\n",
    "            # read data\n",
    "            if filename.endswith(\".csv\"):\n",
    "\n",
    "\n",
    "                df = pd.read_csv('../../full_data/'+filename)\n",
    "\n",
    "                dataset_size = df['id'].nunique()*df['frame'].nunique()\n",
    "\n",
    "                if dataset_size in range(min_size, max_size):\n",
    "\n",
    "                    df['x'] = (df['x'] - df['x'].min()) / (df['x'].max() - df['x'].min())\n",
    "                    df['y'] = (df['y'] - df['y'].min()) / (df['y'].max() - df['y'].min())\n",
    "                    # transform to numpy array\n",
    "                #     data = df.loc[:, ['frame','x','y']].values\n",
    "                #     labels = df['cid'].to_numpy()\n",
    "\n",
    "\n",
    "                    frame_positions = []\n",
    "\n",
    "                    for frame in df['frame'].unique():\n",
    "                        frame_data = df[df['frame'] == frame]\n",
    "\n",
    "                        n_id = frame_data['id'].nunique()\n",
    "\n",
    "                        frame_data[\"id_cumcounts\"] = frame_data.groupby(\"id\").cumcount()\n",
    "\n",
    "                        frame_data.sort_values([\"id_cumcounts\", \"id\"], inplace=True)\n",
    "\n",
    "                        frame_positions.append(frame_data[['frame', 'x', 'y']].to_numpy()[:n_id])\n",
    "\n",
    "                # # transform to numpy array\n",
    "                    try:\n",
    "\n",
    "                        data = np.array(frame_positions)\n",
    "                        t,n, m_plus = data.shape\n",
    "                        st_data = data.reshape(t*n, m_plus)\n",
    "\n",
    "                        true_labels = frame_data['cid'].to_list()[:n_id]\n",
    "                        full_labels = np.tile(true_labels, t)\n",
    "\n",
    "                        k = len(np.unique(true_labels))\n",
    "\n",
    "                    except:\n",
    "                        continue\n",
    "                    \n",
    "                    test = Test()\n",
    "\n",
    "\n",
    "#                     # grid search\n",
    "#                     param_dict_dbscan = {'eps1': [0.02, 0.03, 0.04, 0.05],'eps2':[5, 25, 50, 100], 'min_samples': [2]}\n",
    "#                     param_dict_agglo = {'eps2':[5, 25, 50, 100], 'n_clusters': [k]}\n",
    "#                     param_dict_kmeans = {'eps2':[5, 25, 50, 100], 'n_clusters': [k]}\n",
    "#                     # param_dict_optics = {'eps2':[5, 15, 25], 'min_cluster_size': [2], 'min_samples' : [2]}\n",
    "#                     # param_dict_spectral = {'eps2':[5, 15, 25], 'n_clusters': [n_cluster]}\n",
    "#                     # param_dict_affinity = {'eps2':[5, 15, 25]}\n",
    "#                     param_dict_birch = {'eps2':[5, 25, 50, 100], 'threshold': [0.3, 0.5], 'n_clusters': [k]}\n",
    "#         #             param_dict_hdbscan = {'eps2':[5, 25, 50, 100], 'min_cluster_size': [k], 'min_samples': [2]}\n",
    "#                     ## ---\n",
    "\n",
    "    \n",
    "                    if method == 'dbscan':\n",
    "                        print('running dbscan')\n",
    "                        try:\n",
    "#                             opt_param_dbscan = st_grid_search(estimator=ST_DBSCAN, split=True, X=data, param_dict=param_dict_dbscan, metric=metric, n_clusters = k, y=true_labels, frame_size=FRAME_SIZE, frame_overlap=FRAME_OVERLAP)\n",
    "                            opt_param_dbscan = {'eps1':0.05, 'eps2': 50, 'min_samples': 2}\n",
    "                            dbscan = ST_DBSCAN(**opt_param_dbscan)\n",
    "                            ami, full_ami, runtime = test.frame_split_cluster(dbscan, data, FRAME_SIZE, FRAME_OVERLAP)\n",
    "                            print(ami, full_ami, runtime)\n",
    "                            lt_ami.append(ami)\n",
    "                            full_ami_list.append(full_ami)\n",
    "                            runtime_list.append(runtime)\n",
    "                            f.write(filename + 'ami: %f full_ami; %f runtime: %f \\n\\n' %(ami, full_ami, runtime))\n",
    "\n",
    "\n",
    "                            print('running average', np.average(lt_ami), np.average(full_ami_list), np.average(runtime_list), '\\n')\n",
    "\n",
    "                #             logging.info('dataset: {}, method: {}, ami: {}, execution time: {}'.format(filename, dbscan, ami, runtime))\n",
    "                        except TimeoutError:\n",
    "                            print('timeout')\n",
    "                #             logging.info('TimeoutError! dataset: {}, method: {}'.format(filename, 'DBSCAN'))\n",
    "                            not_timed_out_dbscan = False\n",
    "                            pass\n",
    "#                         except:\n",
    "#                             print('other error')\n",
    "#                 #             logging.info('ComputationalError! dataset: {}, method: {}'.format(filename, 'DBSCAN'))\n",
    "#                             pass\n",
    "\n",
    "\n",
    "                    ## ST_Agglomerative \n",
    "                    if method == 'agglomerative':\n",
    "                        print('running agglomerative')\n",
    "                        try:\n",
    "#                             opt_param_agglo = st_grid_search(estimator=ST_Agglomerative, split=True, X=data, param_dict=param_dict_agglo, metric=metric, n_clusters = k, y=true_labels, frame_size=FRAME_SIZE, frame_overlap=FRAME_OVERLAP)\n",
    "                            opt_param_agglo = {'eps1': .50, 'eps2': 100, 'n_clusters': 2}\n",
    "                            print(opt_param_agglo)\n",
    "                            agglo = ST_Agglomerative(**opt_param_agglo)\n",
    "                            ami, full_ami, runtime = test.frame_split_cluster(agglo, data, FRAME_SIZE, FRAME_OVERLAP)\n",
    "                            lt_ami.append(ami)\n",
    "                            full_ami_list.append(full_ami)\n",
    "                            runtime_list.append(runtime)\n",
    "\n",
    "                            f.write(filename + 'ami: %f full_ami: %f runtime: %f \\n\\n' %(ami, full_ami, runtime))\n",
    "\n",
    "                            print('running average', np.average(lt_ami), np.average(full_ami_list), np.average(runtime_list), '\\n')\n",
    "                #             logging.info('dataset: {}, method: {}, ami: {}, execution time: {}'.format(filename, agglo, ami, runtime))\n",
    "                        except TimeoutError:\n",
    "                            print('timeout')\n",
    "                #             logging.info('TimeoutError! dataset: {}, method: {}'.format(filename, 'Agglomerative'))\n",
    "                            not_timed_out_agglo = False\n",
    "                            pass\n",
    "                        except:\n",
    "                            print('other error')\n",
    "                #             logging.info('ComputationalError! dataset: {}, method: {}'.format(filename, 'Agglomerative'))\n",
    "                            pass\n",
    "\n",
    "                    ## K-MEANS\n",
    "                    if method == 'kmeans':\n",
    "                        print('running kmeans')\n",
    "                        try:\n",
    "#                             opt_param_kmeans = st_grid_search(estimator=ST_KMeans, split=True, X=data, param_dict=param_dict_kmeans, metric=metric, n_clusters = k, y=true_labels, frame_size=FRAME_SIZE, frame_overlap=FRAME_OVERLAP)\n",
    "                            opt_param_kmeans = {'eps1': 0.50, 'eps2': 100, 'n_clusters': 2}\n",
    "                            kmeans = ST_KMeans(**opt_param_kmeans)\n",
    "                            ami, full_ami, runtime = test.frame_split_cluster(kmeans, data, FRAME_SIZE, FRAME_OVERLAP)\n",
    "                            lt_ami.append(ami)\n",
    "                            full_ami_list.append(full_ami)\n",
    "                            runtime_list.append(runtime)\n",
    "                            f.write(filename + 'ami: %f full_ami: %f runtime: %f \\n\\n' %(ami, full_ami, runtime))\n",
    "\n",
    "                            print('running average', np.average(lt_ami), np.average(full_ami_list), np.average(runtime_list), '\\n')\n",
    "\n",
    "            #logging.info('dataset: {}, method: {}, ami: {}, execution time: {}'.format(filename, kmeans, ami, runtime))\n",
    "                        except TimeoutError:\n",
    "                            print('timeout')\n",
    "                            logging.info('TimeoutError! dataset: {}, method: {}'.format(filename, 'KMeans'))\n",
    "                            not_timed_out_kmeans = False\n",
    "                            pass\n",
    "#                         except:\n",
    "#                             print('other error')\n",
    "#             #                 logging.info('ComputationalError! dataset: {}, method: {}'.format(filename, 'KMeans'))\n",
    "#                             pass\n",
    "\n",
    "\n",
    "                    ## BIRCH\n",
    "                    if method == 'birch':\n",
    "                        try:\n",
    "#                             opt_param_birch = st_grid_search(estimator=ST_BIRCH, split=True, X=data, param_dict=param_dict_birch, metric=metric, n_clusters = k, y=true_labels, frame_size=FRAME_SIZE, frame_overlap=FRAME_OVERLAP)\n",
    "                            opt_param_birch = {'eps1':0.50, 'threshold': 0.50, 'n_clusters': 2}\n",
    "                            birch = ST_BIRCH(**opt_param_birch)\n",
    "                            ami, full_ami, runtime = test.frame_split_cluster(birch, data, FRAME_SIZE, FRAME_OVERLAP)\n",
    "\n",
    "                            lt_ami.append(ami)\n",
    "                            full_ami_list.append(full_ami)\n",
    "                            runtime_list.append(runtime)\n",
    "                            f.write(filename + 'ami: %f full_ami: %f runtime: %f \\n\\n' %(ami, full_ami, runtime))\n",
    "\n",
    "                            print('running average', np.average(lt_ami), np.average(full_ami_list), np.average(runtime_list), '\\n')\n",
    "\n",
    "                        except TimeoutError:\n",
    "            #                 logging.info('TimeoutError! dataset: {}, method: {}'.format(filename, 'BIRCH'))\n",
    "                            not_timed_out_birch = False\n",
    "                            pass\n",
    "                        except:\n",
    "            #                 logging.info('ComputationalError! dataset: {}, method: {}'.format(filename, 'BIRCH'))\n",
    "                            pass\n",
    "\n",
    "\n",
    "                    ## HDBSCAN \n",
    "                    if method =='hdbscan':\n",
    "                        try:\n",
    "#                             opt_param_hdbscan = st_grid_search(estimator=ST_HDBSCAN, split=True, X=data, param_dict=param_dict_birch, metric=metric, n_clusters=k, y=true_labels, frame_size=FRAME_SIZE, frame_overlap=FRAME_OVERLAP)\n",
    "                            opt_param_hdbscan = {'eps2': 100, 'eps1': 0.5, 'n_clusters': 2}\n",
    "#                             opt_param_hdbscan = {'eps2': 5, 'eps1': 0.5, 'n_clusters': 2}\n",
    "                            hdbscan = ST_HDBSCAN(**opt_param_hdbscan)\n",
    "                            ami, full_ami, runtime = test.frame_split_cluster(hdbscan, data, FRAME_SIZE, FRAME_OVERLAP)\n",
    "\n",
    "                            lt_ami.append(ami)\n",
    "                            full_ami_list.append(full_ami)\n",
    "                            runtime_list.append(runtime)\n",
    "                            f.write(filename + 'ami: %f full_ami: %f runtime: %f \\n\\n' %(ami, full_ami, runtime))\n",
    "\n",
    "                            print('running average', np.average(lt_ami), np.average(full_ami_list), np.average(runtime_list), '\\n')\n",
    "\n",
    "                        except TimeoutError:\n",
    "                            not_timed_out_hdbscan = False\n",
    "                            pass \n",
    "                        except:\n",
    "                            print('other error')\n",
    "                            pass\n",
    "            \n",
    "        ami_average = np.average(lt_ami)\n",
    "        full_ami_average = np.average(full_ami_list)\n",
    "        runtime_average = np.average(runtime_list)\n",
    "        f.write('ami average: %f full ami average: %f runtime average: %f' %(ami_average, full_ami_average, runtime_average))\n",
    "        f.close()\n",
    "\n",
    "\n",
    "            ## OPTICS \n",
    "            # if not_timed_out_optics:\n",
    "            #     try:\n",
    "            #         opt_param_optics = st_grid_search(estimator=ST_OPTICS, split=True, X=data, param_dict=param_dict_optics, metric='ami', y=labels, frame_size=FRAME_SIZE, frame_overlap=FRAME_OVERLAP)\n",
    "            #         optics = ST_OPTICS(**opt_param_optics)\n",
    "            #         ami, runtime = t.frame_split_cluster(optics, data, FRAME_SIZE, FRAME_OVERLAP)\n",
    "            #         logging.info('dataset: {}, method: {}, ami: {}, execution time: {}'.format(filename, optics, ami, runtime))\n",
    "            #     except TimeoutError:\n",
    "            #         logging.info('TimeoutError! dataset: {}, method: {}'.format(filename, 'OPTICS'))\n",
    "            #         not_timed_out_optics = False\n",
    "            #         pass\n",
    "            #     except:\n",
    "            #         logging.info('ComputationalError! dataset: {}, method: {}'.format(filename, 'OPTICS'))\n",
    "            #         pass\n",
    "\n",
    "            ## SPECTRAL \n",
    "            # if not_timed_out_spectral:\n",
    "            #     try:\n",
    "            #         opt_param_spectral = st_grid_search(estimator=ST_SpectralClustering, split=True, X=data, param_dict=param_dict_spectral, metric='ami', y=labels, frame_size=FRAME_SIZE, frame_overlap=FRAME_OVERLAP)\n",
    "            #         spectral = ST_SpectralClustering(**opt_param_spectral)\n",
    "            #         ami, runtime = t.frame_split_cluster(spectral, data, FRAME_SIZE,FRAME_OVERLAP)\n",
    "            #         logging.info('dataset: {}, method: {}, ami: {}, execution time: {}'.format(filename, spectral, ami, runtime))\n",
    "            #     except TimeoutError:\n",
    "            #         logging.info('TimeoutError! dataset: {}, method: {}'.format(filename, 'Spectral'))\n",
    "            #         not_timed_out_spectral = False\n",
    "            #         pass\n",
    "            #     except:\n",
    "            #         logging.info('ComputationalError! dataset: {}, method: {}'.format(filename, 'Spectral'))\n",
    "            #         pass\n",
    "\n",
    "            ## AFFINITY \n",
    "            # if not_timed_out_affinity:\n",
    "            #     try:\n",
    "            #         opt_param_affinity = st_grid_search(estimator=ST_AffinityPropagation, split=True, X=data, param_dict=param_dict_affinity, metric='ami', y=labels, frame_size=FRAME_SIZE, frame_overlap=FRAME_OVERLAP)\n",
    "            #         affinity = ST_AffinityPropagation(**opt_param_affinity)\n",
    "            #         ami, runtime = t.frame_split_cluster(affinity, data, FRAME_SIZE, FRAME_OVERLAP)\n",
    "            #         logging.info('dataset: {}, method: {}, ami: {}, execution time: {}'.format(filename, affinity,  ami, runtime))\n",
    "            #     except TimeoutError:\n",
    "            #         logging.info('TimeoutError! dataset: {}, method: {}'.format(filename, 'Affinity'))\n",
    "            #         not_timed_out_affinity = False\n",
    "            #         pass\n",
    "            #     except:\n",
    "            #         logging.info('ComputationalError! dataset: {}, method: {}'.format(filename, 'Affinity'))\n",
    "            #         pass"
   ]
  },
  {
   "cell_type": "code",
   "execution_count": null,
   "id": "2c60b2f5",
   "metadata": {},
   "outputs": [],
   "source": []
  }
 ],
 "metadata": {
  "kernelspec": {
   "display_name": "Python 3 (ipykernel)",
   "language": "python",
   "name": "python3"
  },
  "language_info": {
   "codemirror_mode": {
    "name": "ipython",
    "version": 3
   },
   "file_extension": ".py",
   "mimetype": "text/x-python",
   "name": "python",
   "nbconvert_exporter": "python",
   "pygments_lexer": "ipython3",
   "version": "3.9.7"
  }
 },
 "nbformat": 4,
 "nbformat_minor": 5
}
